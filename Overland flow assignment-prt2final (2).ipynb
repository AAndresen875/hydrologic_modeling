{
 "cells": [
  {
   "cell_type": "code",
   "execution_count": 1,
   "metadata": {},
   "outputs": [
    {
     "name": "stdout",
     "output_type": "stream",
     "text": [
      "    Unsteady Plot       Unnamed: 1  Unnamed: 2\n",
      "0   Slope = 2.83%          Width =       200.0\n",
      "1             NaN        Length =        185.0\n",
      "2             NaN          Area =      37000.0\n",
      "3      Time - min  Flow Rate (cfs)         NaN\n",
      "4               0                0         NaN\n",
      "5              10                0         NaN\n",
      "6              20            0.132         NaN\n",
      "7              30             0.67         NaN\n",
      "8              40            0.782         NaN\n",
      "9              50            0.388         NaN\n",
      "10             60            0.165         NaN\n",
      "11             70            0.078         NaN\n",
      "12             80             0.04         NaN\n",
      "13             90            0.022         NaN\n"
     ]
    }
   ],
   "source": [
    "#Overland Flow Assignment\n",
    "#05/08/2021\n",
    "\n",
    "import pandas as pd\n",
    "import math\n",
    "ObservedUS = pd.read_excel (r'C:\\Users\\AnnaA\\Downloads\\unsteady.xls')\n",
    "print(ObservedUS)"
   ]
  },
  {
   "cell_type": "code",
   "execution_count": 27,
   "metadata": {
    "scrolled": false
   },
   "outputs": [
    {
     "data": {
      "text/plain": [
       "67.29295843588744"
      ]
     },
     "execution_count": 27,
     "metadata": {},
     "output_type": "execute_result"
    }
   ],
   "source": [
    "import plotly\n",
    "\n",
    "#timeforei=[0,142,288,499,781,1063,1372,1969,2874,3770,4679,5566,6463,6639,6815,6990,7166,7342]#seconds\n",
    "#ieobserved=[0,0, 0.1715973003,0.9412239981,1.189849205,1.236509958,1.313791831,1.261240157,1.370913215,1.401377953,1.433227452,1.370913215,1.370913215,0.8773849319,0.4935285823,0.219346233,0.05483640722,0]#mm/hr\n",
    "#fig = dict({\n",
    "#    \"data\": [{\"type\": \"scatter\",\n",
    "#              \"x\": timeforei,\n",
    "#              \"y\": ieobserved}],\n",
    "#    \"layout\": {\"title\": {\"text\": \"Rainfall intensity\"}}\n",
    "#})\n",
    "\n",
    "# To display the figure defined by this dict, use the low-level plotly.io.show function\n",
    "import plotly.io as pio\n",
    "\n",
    "#pio.show(fig)\n",
    "\n",
    "def estimateie(timetocompare):\n",
    "    if (0/60) <= timetocompare <(14/60): #diveded by 60 to get from minutes to hours\n",
    "        i=(.8*25.4) #m/hr\n",
    "        f=(.8*25.4) #m/hr\n",
    "    elif (14/60) <= timetocompare < (28/60):#diveded by 60 to get from minutes to hours\n",
    "        i=(3.3*25.4)\n",
    "        f=(2**(-0.050*((timetocompare*60)-14))*25.4) #m/hr\n",
    "    else:\n",
    "    #elif (28/60) <= timetocompare < (40/60):#diveded by 60 to get from minutes to hours\n",
    "        i=(.6*25.4)#m/hr\n",
    "        f=(.6*25.4)#m/hr\n",
    "    ie=i-f #m/hr \n",
    "    return ie\n",
    "    \n",
    "estimateie(.44)"
   ]
  },
  {
   "cell_type": "code",
   "execution_count": 28,
   "metadata": {},
   "outputs": [],
   "source": [
    "#Input parameters:\n",
    "\n",
    "#from assignment handout:\n",
    "S = 0.0283 #38.4%\n",
    "width = 60.96 #m (converted from 200 ft)\n",
    "length = 56.388 #m (converted from 185.0 ft)\n",
    "#rainfallintensity = 83.82 #mm/h (3.3 in/hr)\n",
    "duration = 1.5 #hours\n",
    "\n",
    "#mannings eqn:\n",
    "β=3/5\n",
    "Cn=1 #bc we're in metric\n",
    "n = 2 #in part 1\n",
    "α = (n/(Cn*S**.5))**β\n",
    "m=5/3"
   ]
  },
  {
   "cell_type": "code",
   "execution_count": 29,
   "metadata": {},
   "outputs": [
    {
     "data": {
      "application/vnd.plotly.v1+json": {
       "config": {
        "plotlyServerURL": "https://plot.ly"
       },
       "data": [
        {
         "hovertemplate": "Unsteady Plot=%{x}<br>Unnamed: 1=%{y}<extra></extra>",
         "legendgroup": "",
         "line": {
          "color": "#636efa",
          "dash": "solid"
         },
         "mode": "lines",
         "name": "",
         "orientation": "v",
         "showlegend": false,
         "type": "scatter",
         "x": [
          "Slope = 2.83%",
          null,
          null,
          "Time - min",
          0,
          10,
          20,
          30,
          40,
          50,
          60,
          70,
          80,
          90
         ],
         "xaxis": "x",
         "y": [
          "Width =",
          "Length = ",
          "Area = ",
          "Flow Rate (cfs)",
          0,
          0,
          0.132,
          0.67,
          0.782,
          0.388,
          0.165,
          0.078,
          0.04,
          0.022
         ],
         "yaxis": "y"
        }
       ],
       "layout": {
        "legend": {
         "tracegroupgap": 0
        },
        "template": {
         "data": {
          "bar": [
           {
            "error_x": {
             "color": "#2a3f5f"
            },
            "error_y": {
             "color": "#2a3f5f"
            },
            "marker": {
             "line": {
              "color": "#E5ECF6",
              "width": 0.5
             }
            },
            "type": "bar"
           }
          ],
          "barpolar": [
           {
            "marker": {
             "line": {
              "color": "#E5ECF6",
              "width": 0.5
             }
            },
            "type": "barpolar"
           }
          ],
          "carpet": [
           {
            "aaxis": {
             "endlinecolor": "#2a3f5f",
             "gridcolor": "white",
             "linecolor": "white",
             "minorgridcolor": "white",
             "startlinecolor": "#2a3f5f"
            },
            "baxis": {
             "endlinecolor": "#2a3f5f",
             "gridcolor": "white",
             "linecolor": "white",
             "minorgridcolor": "white",
             "startlinecolor": "#2a3f5f"
            },
            "type": "carpet"
           }
          ],
          "choropleth": [
           {
            "colorbar": {
             "outlinewidth": 0,
             "ticks": ""
            },
            "type": "choropleth"
           }
          ],
          "contour": [
           {
            "colorbar": {
             "outlinewidth": 0,
             "ticks": ""
            },
            "colorscale": [
             [
              0,
              "#0d0887"
             ],
             [
              0.1111111111111111,
              "#46039f"
             ],
             [
              0.2222222222222222,
              "#7201a8"
             ],
             [
              0.3333333333333333,
              "#9c179e"
             ],
             [
              0.4444444444444444,
              "#bd3786"
             ],
             [
              0.5555555555555556,
              "#d8576b"
             ],
             [
              0.6666666666666666,
              "#ed7953"
             ],
             [
              0.7777777777777778,
              "#fb9f3a"
             ],
             [
              0.8888888888888888,
              "#fdca26"
             ],
             [
              1,
              "#f0f921"
             ]
            ],
            "type": "contour"
           }
          ],
          "contourcarpet": [
           {
            "colorbar": {
             "outlinewidth": 0,
             "ticks": ""
            },
            "type": "contourcarpet"
           }
          ],
          "heatmap": [
           {
            "colorbar": {
             "outlinewidth": 0,
             "ticks": ""
            },
            "colorscale": [
             [
              0,
              "#0d0887"
             ],
             [
              0.1111111111111111,
              "#46039f"
             ],
             [
              0.2222222222222222,
              "#7201a8"
             ],
             [
              0.3333333333333333,
              "#9c179e"
             ],
             [
              0.4444444444444444,
              "#bd3786"
             ],
             [
              0.5555555555555556,
              "#d8576b"
             ],
             [
              0.6666666666666666,
              "#ed7953"
             ],
             [
              0.7777777777777778,
              "#fb9f3a"
             ],
             [
              0.8888888888888888,
              "#fdca26"
             ],
             [
              1,
              "#f0f921"
             ]
            ],
            "type": "heatmap"
           }
          ],
          "heatmapgl": [
           {
            "colorbar": {
             "outlinewidth": 0,
             "ticks": ""
            },
            "colorscale": [
             [
              0,
              "#0d0887"
             ],
             [
              0.1111111111111111,
              "#46039f"
             ],
             [
              0.2222222222222222,
              "#7201a8"
             ],
             [
              0.3333333333333333,
              "#9c179e"
             ],
             [
              0.4444444444444444,
              "#bd3786"
             ],
             [
              0.5555555555555556,
              "#d8576b"
             ],
             [
              0.6666666666666666,
              "#ed7953"
             ],
             [
              0.7777777777777778,
              "#fb9f3a"
             ],
             [
              0.8888888888888888,
              "#fdca26"
             ],
             [
              1,
              "#f0f921"
             ]
            ],
            "type": "heatmapgl"
           }
          ],
          "histogram": [
           {
            "marker": {
             "colorbar": {
              "outlinewidth": 0,
              "ticks": ""
             }
            },
            "type": "histogram"
           }
          ],
          "histogram2d": [
           {
            "colorbar": {
             "outlinewidth": 0,
             "ticks": ""
            },
            "colorscale": [
             [
              0,
              "#0d0887"
             ],
             [
              0.1111111111111111,
              "#46039f"
             ],
             [
              0.2222222222222222,
              "#7201a8"
             ],
             [
              0.3333333333333333,
              "#9c179e"
             ],
             [
              0.4444444444444444,
              "#bd3786"
             ],
             [
              0.5555555555555556,
              "#d8576b"
             ],
             [
              0.6666666666666666,
              "#ed7953"
             ],
             [
              0.7777777777777778,
              "#fb9f3a"
             ],
             [
              0.8888888888888888,
              "#fdca26"
             ],
             [
              1,
              "#f0f921"
             ]
            ],
            "type": "histogram2d"
           }
          ],
          "histogram2dcontour": [
           {
            "colorbar": {
             "outlinewidth": 0,
             "ticks": ""
            },
            "colorscale": [
             [
              0,
              "#0d0887"
             ],
             [
              0.1111111111111111,
              "#46039f"
             ],
             [
              0.2222222222222222,
              "#7201a8"
             ],
             [
              0.3333333333333333,
              "#9c179e"
             ],
             [
              0.4444444444444444,
              "#bd3786"
             ],
             [
              0.5555555555555556,
              "#d8576b"
             ],
             [
              0.6666666666666666,
              "#ed7953"
             ],
             [
              0.7777777777777778,
              "#fb9f3a"
             ],
             [
              0.8888888888888888,
              "#fdca26"
             ],
             [
              1,
              "#f0f921"
             ]
            ],
            "type": "histogram2dcontour"
           }
          ],
          "mesh3d": [
           {
            "colorbar": {
             "outlinewidth": 0,
             "ticks": ""
            },
            "type": "mesh3d"
           }
          ],
          "parcoords": [
           {
            "line": {
             "colorbar": {
              "outlinewidth": 0,
              "ticks": ""
             }
            },
            "type": "parcoords"
           }
          ],
          "pie": [
           {
            "automargin": true,
            "type": "pie"
           }
          ],
          "scatter": [
           {
            "marker": {
             "colorbar": {
              "outlinewidth": 0,
              "ticks": ""
             }
            },
            "type": "scatter"
           }
          ],
          "scatter3d": [
           {
            "line": {
             "colorbar": {
              "outlinewidth": 0,
              "ticks": ""
             }
            },
            "marker": {
             "colorbar": {
              "outlinewidth": 0,
              "ticks": ""
             }
            },
            "type": "scatter3d"
           }
          ],
          "scattercarpet": [
           {
            "marker": {
             "colorbar": {
              "outlinewidth": 0,
              "ticks": ""
             }
            },
            "type": "scattercarpet"
           }
          ],
          "scattergeo": [
           {
            "marker": {
             "colorbar": {
              "outlinewidth": 0,
              "ticks": ""
             }
            },
            "type": "scattergeo"
           }
          ],
          "scattergl": [
           {
            "marker": {
             "colorbar": {
              "outlinewidth": 0,
              "ticks": ""
             }
            },
            "type": "scattergl"
           }
          ],
          "scattermapbox": [
           {
            "marker": {
             "colorbar": {
              "outlinewidth": 0,
              "ticks": ""
             }
            },
            "type": "scattermapbox"
           }
          ],
          "scatterpolar": [
           {
            "marker": {
             "colorbar": {
              "outlinewidth": 0,
              "ticks": ""
             }
            },
            "type": "scatterpolar"
           }
          ],
          "scatterpolargl": [
           {
            "marker": {
             "colorbar": {
              "outlinewidth": 0,
              "ticks": ""
             }
            },
            "type": "scatterpolargl"
           }
          ],
          "scatterternary": [
           {
            "marker": {
             "colorbar": {
              "outlinewidth": 0,
              "ticks": ""
             }
            },
            "type": "scatterternary"
           }
          ],
          "surface": [
           {
            "colorbar": {
             "outlinewidth": 0,
             "ticks": ""
            },
            "colorscale": [
             [
              0,
              "#0d0887"
             ],
             [
              0.1111111111111111,
              "#46039f"
             ],
             [
              0.2222222222222222,
              "#7201a8"
             ],
             [
              0.3333333333333333,
              "#9c179e"
             ],
             [
              0.4444444444444444,
              "#bd3786"
             ],
             [
              0.5555555555555556,
              "#d8576b"
             ],
             [
              0.6666666666666666,
              "#ed7953"
             ],
             [
              0.7777777777777778,
              "#fb9f3a"
             ],
             [
              0.8888888888888888,
              "#fdca26"
             ],
             [
              1,
              "#f0f921"
             ]
            ],
            "type": "surface"
           }
          ],
          "table": [
           {
            "cells": {
             "fill": {
              "color": "#EBF0F8"
             },
             "line": {
              "color": "white"
             }
            },
            "header": {
             "fill": {
              "color": "#C8D4E3"
             },
             "line": {
              "color": "white"
             }
            },
            "type": "table"
           }
          ]
         },
         "layout": {
          "annotationdefaults": {
           "arrowcolor": "#2a3f5f",
           "arrowhead": 0,
           "arrowwidth": 1
          },
          "autotypenumbers": "strict",
          "coloraxis": {
           "colorbar": {
            "outlinewidth": 0,
            "ticks": ""
           }
          },
          "colorscale": {
           "diverging": [
            [
             0,
             "#8e0152"
            ],
            [
             0.1,
             "#c51b7d"
            ],
            [
             0.2,
             "#de77ae"
            ],
            [
             0.3,
             "#f1b6da"
            ],
            [
             0.4,
             "#fde0ef"
            ],
            [
             0.5,
             "#f7f7f7"
            ],
            [
             0.6,
             "#e6f5d0"
            ],
            [
             0.7,
             "#b8e186"
            ],
            [
             0.8,
             "#7fbc41"
            ],
            [
             0.9,
             "#4d9221"
            ],
            [
             1,
             "#276419"
            ]
           ],
           "sequential": [
            [
             0,
             "#0d0887"
            ],
            [
             0.1111111111111111,
             "#46039f"
            ],
            [
             0.2222222222222222,
             "#7201a8"
            ],
            [
             0.3333333333333333,
             "#9c179e"
            ],
            [
             0.4444444444444444,
             "#bd3786"
            ],
            [
             0.5555555555555556,
             "#d8576b"
            ],
            [
             0.6666666666666666,
             "#ed7953"
            ],
            [
             0.7777777777777778,
             "#fb9f3a"
            ],
            [
             0.8888888888888888,
             "#fdca26"
            ],
            [
             1,
             "#f0f921"
            ]
           ],
           "sequentialminus": [
            [
             0,
             "#0d0887"
            ],
            [
             0.1111111111111111,
             "#46039f"
            ],
            [
             0.2222222222222222,
             "#7201a8"
            ],
            [
             0.3333333333333333,
             "#9c179e"
            ],
            [
             0.4444444444444444,
             "#bd3786"
            ],
            [
             0.5555555555555556,
             "#d8576b"
            ],
            [
             0.6666666666666666,
             "#ed7953"
            ],
            [
             0.7777777777777778,
             "#fb9f3a"
            ],
            [
             0.8888888888888888,
             "#fdca26"
            ],
            [
             1,
             "#f0f921"
            ]
           ]
          },
          "colorway": [
           "#636efa",
           "#EF553B",
           "#00cc96",
           "#ab63fa",
           "#FFA15A",
           "#19d3f3",
           "#FF6692",
           "#B6E880",
           "#FF97FF",
           "#FECB52"
          ],
          "font": {
           "color": "#2a3f5f"
          },
          "geo": {
           "bgcolor": "white",
           "lakecolor": "white",
           "landcolor": "#E5ECF6",
           "showlakes": true,
           "showland": true,
           "subunitcolor": "white"
          },
          "hoverlabel": {
           "align": "left"
          },
          "hovermode": "closest",
          "mapbox": {
           "style": "light"
          },
          "paper_bgcolor": "white",
          "plot_bgcolor": "#E5ECF6",
          "polar": {
           "angularaxis": {
            "gridcolor": "white",
            "linecolor": "white",
            "ticks": ""
           },
           "bgcolor": "#E5ECF6",
           "radialaxis": {
            "gridcolor": "white",
            "linecolor": "white",
            "ticks": ""
           }
          },
          "scene": {
           "xaxis": {
            "backgroundcolor": "#E5ECF6",
            "gridcolor": "white",
            "gridwidth": 2,
            "linecolor": "white",
            "showbackground": true,
            "ticks": "",
            "zerolinecolor": "white"
           },
           "yaxis": {
            "backgroundcolor": "#E5ECF6",
            "gridcolor": "white",
            "gridwidth": 2,
            "linecolor": "white",
            "showbackground": true,
            "ticks": "",
            "zerolinecolor": "white"
           },
           "zaxis": {
            "backgroundcolor": "#E5ECF6",
            "gridcolor": "white",
            "gridwidth": 2,
            "linecolor": "white",
            "showbackground": true,
            "ticks": "",
            "zerolinecolor": "white"
           }
          },
          "shapedefaults": {
           "line": {
            "color": "#2a3f5f"
           }
          },
          "ternary": {
           "aaxis": {
            "gridcolor": "white",
            "linecolor": "white",
            "ticks": ""
           },
           "baxis": {
            "gridcolor": "white",
            "linecolor": "white",
            "ticks": ""
           },
           "bgcolor": "#E5ECF6",
           "caxis": {
            "gridcolor": "white",
            "linecolor": "white",
            "ticks": ""
           }
          },
          "title": {
           "x": 0.05
          },
          "xaxis": {
           "automargin": true,
           "gridcolor": "white",
           "linecolor": "white",
           "ticks": "",
           "title": {
            "standoff": 15
           },
           "zerolinecolor": "white",
           "zerolinewidth": 2
          },
          "yaxis": {
           "automargin": true,
           "gridcolor": "white",
           "linecolor": "white",
           "ticks": "",
           "title": {
            "standoff": 15
           },
           "zerolinecolor": "white",
           "zerolinewidth": 2
          }
         }
        },
        "title": {
         "text": "inflow hydrograph"
        },
        "xaxis": {
         "anchor": "y",
         "domain": [
          0,
          1
         ],
         "title": {
          "text": "Unsteady Plot"
         }
        },
        "yaxis": {
         "anchor": "x",
         "domain": [
          0,
          1
         ],
         "title": {
          "text": "Unnamed: 1"
         }
        }
       }
      },
      "text/html": [
       "<div>                            <div id=\"9431cb1e-c76a-4b80-84cd-bec01b945971\" class=\"plotly-graph-div\" style=\"height:525px; width:100%;\"></div>            <script type=\"text/javascript\">                require([\"plotly\"], function(Plotly) {                    window.PLOTLYENV=window.PLOTLYENV || {};                                    if (document.getElementById(\"9431cb1e-c76a-4b80-84cd-bec01b945971\")) {                    Plotly.newPlot(                        \"9431cb1e-c76a-4b80-84cd-bec01b945971\",                        [{\"hovertemplate\": \"Unsteady Plot=%{x}<br>Unnamed: 1=%{y}<extra></extra>\", \"legendgroup\": \"\", \"line\": {\"color\": \"#636efa\", \"dash\": \"solid\"}, \"mode\": \"lines\", \"name\": \"\", \"orientation\": \"v\", \"showlegend\": false, \"type\": \"scatter\", \"x\": [\"Slope = 2.83%\", null, null, \"Time - min\", 0, 10, 20, 30, 40, 50, 60, 70, 80, 90], \"xaxis\": \"x\", \"y\": [\"Width =\", \"Length = \", \"Area = \", \"Flow Rate (cfs)\", 0, 0, 0.132, 0.67, 0.782, 0.388, 0.165, 0.078, 0.04, 0.022], \"yaxis\": \"y\"}],                        {\"legend\": {\"tracegroupgap\": 0}, \"template\": {\"data\": {\"bar\": [{\"error_x\": {\"color\": \"#2a3f5f\"}, \"error_y\": {\"color\": \"#2a3f5f\"}, \"marker\": {\"line\": {\"color\": \"#E5ECF6\", \"width\": 0.5}}, \"type\": \"bar\"}], \"barpolar\": [{\"marker\": {\"line\": {\"color\": \"#E5ECF6\", \"width\": 0.5}}, \"type\": \"barpolar\"}], \"carpet\": [{\"aaxis\": {\"endlinecolor\": \"#2a3f5f\", \"gridcolor\": \"white\", \"linecolor\": \"white\", \"minorgridcolor\": \"white\", \"startlinecolor\": \"#2a3f5f\"}, \"baxis\": {\"endlinecolor\": \"#2a3f5f\", \"gridcolor\": \"white\", \"linecolor\": \"white\", \"minorgridcolor\": \"white\", \"startlinecolor\": \"#2a3f5f\"}, \"type\": \"carpet\"}], \"choropleth\": [{\"colorbar\": {\"outlinewidth\": 0, \"ticks\": \"\"}, \"type\": \"choropleth\"}], \"contour\": [{\"colorbar\": {\"outlinewidth\": 0, \"ticks\": \"\"}, \"colorscale\": [[0.0, \"#0d0887\"], [0.1111111111111111, \"#46039f\"], [0.2222222222222222, \"#7201a8\"], [0.3333333333333333, \"#9c179e\"], [0.4444444444444444, \"#bd3786\"], [0.5555555555555556, \"#d8576b\"], [0.6666666666666666, \"#ed7953\"], [0.7777777777777778, \"#fb9f3a\"], [0.8888888888888888, \"#fdca26\"], [1.0, \"#f0f921\"]], \"type\": \"contour\"}], \"contourcarpet\": [{\"colorbar\": {\"outlinewidth\": 0, \"ticks\": \"\"}, \"type\": \"contourcarpet\"}], \"heatmap\": [{\"colorbar\": {\"outlinewidth\": 0, \"ticks\": \"\"}, \"colorscale\": [[0.0, \"#0d0887\"], [0.1111111111111111, \"#46039f\"], [0.2222222222222222, \"#7201a8\"], [0.3333333333333333, \"#9c179e\"], [0.4444444444444444, \"#bd3786\"], [0.5555555555555556, \"#d8576b\"], [0.6666666666666666, \"#ed7953\"], [0.7777777777777778, \"#fb9f3a\"], [0.8888888888888888, \"#fdca26\"], [1.0, \"#f0f921\"]], \"type\": \"heatmap\"}], \"heatmapgl\": [{\"colorbar\": {\"outlinewidth\": 0, \"ticks\": \"\"}, \"colorscale\": [[0.0, \"#0d0887\"], [0.1111111111111111, \"#46039f\"], [0.2222222222222222, \"#7201a8\"], [0.3333333333333333, \"#9c179e\"], [0.4444444444444444, \"#bd3786\"], [0.5555555555555556, \"#d8576b\"], [0.6666666666666666, \"#ed7953\"], [0.7777777777777778, \"#fb9f3a\"], [0.8888888888888888, \"#fdca26\"], [1.0, \"#f0f921\"]], \"type\": \"heatmapgl\"}], \"histogram\": [{\"marker\": {\"colorbar\": {\"outlinewidth\": 0, \"ticks\": \"\"}}, \"type\": \"histogram\"}], \"histogram2d\": [{\"colorbar\": {\"outlinewidth\": 0, \"ticks\": \"\"}, \"colorscale\": [[0.0, \"#0d0887\"], [0.1111111111111111, \"#46039f\"], [0.2222222222222222, \"#7201a8\"], [0.3333333333333333, \"#9c179e\"], [0.4444444444444444, \"#bd3786\"], [0.5555555555555556, \"#d8576b\"], [0.6666666666666666, \"#ed7953\"], [0.7777777777777778, \"#fb9f3a\"], [0.8888888888888888, \"#fdca26\"], [1.0, \"#f0f921\"]], \"type\": \"histogram2d\"}], \"histogram2dcontour\": [{\"colorbar\": {\"outlinewidth\": 0, \"ticks\": \"\"}, \"colorscale\": [[0.0, \"#0d0887\"], [0.1111111111111111, \"#46039f\"], [0.2222222222222222, \"#7201a8\"], [0.3333333333333333, \"#9c179e\"], [0.4444444444444444, \"#bd3786\"], [0.5555555555555556, \"#d8576b\"], [0.6666666666666666, \"#ed7953\"], [0.7777777777777778, \"#fb9f3a\"], [0.8888888888888888, \"#fdca26\"], [1.0, \"#f0f921\"]], \"type\": \"histogram2dcontour\"}], \"mesh3d\": [{\"colorbar\": {\"outlinewidth\": 0, \"ticks\": \"\"}, \"type\": \"mesh3d\"}], \"parcoords\": [{\"line\": {\"colorbar\": {\"outlinewidth\": 0, \"ticks\": \"\"}}, \"type\": \"parcoords\"}], \"pie\": [{\"automargin\": true, \"type\": \"pie\"}], \"scatter\": [{\"marker\": {\"colorbar\": {\"outlinewidth\": 0, \"ticks\": \"\"}}, \"type\": \"scatter\"}], \"scatter3d\": [{\"line\": {\"colorbar\": {\"outlinewidth\": 0, \"ticks\": \"\"}}, \"marker\": {\"colorbar\": {\"outlinewidth\": 0, \"ticks\": \"\"}}, \"type\": \"scatter3d\"}], \"scattercarpet\": [{\"marker\": {\"colorbar\": {\"outlinewidth\": 0, \"ticks\": \"\"}}, \"type\": \"scattercarpet\"}], \"scattergeo\": [{\"marker\": {\"colorbar\": {\"outlinewidth\": 0, \"ticks\": \"\"}}, \"type\": \"scattergeo\"}], \"scattergl\": [{\"marker\": {\"colorbar\": {\"outlinewidth\": 0, \"ticks\": \"\"}}, \"type\": \"scattergl\"}], \"scattermapbox\": [{\"marker\": {\"colorbar\": {\"outlinewidth\": 0, \"ticks\": \"\"}}, \"type\": \"scattermapbox\"}], \"scatterpolar\": [{\"marker\": {\"colorbar\": {\"outlinewidth\": 0, \"ticks\": \"\"}}, \"type\": \"scatterpolar\"}], \"scatterpolargl\": [{\"marker\": {\"colorbar\": {\"outlinewidth\": 0, \"ticks\": \"\"}}, \"type\": \"scatterpolargl\"}], \"scatterternary\": [{\"marker\": {\"colorbar\": {\"outlinewidth\": 0, \"ticks\": \"\"}}, \"type\": \"scatterternary\"}], \"surface\": [{\"colorbar\": {\"outlinewidth\": 0, \"ticks\": \"\"}, \"colorscale\": [[0.0, \"#0d0887\"], [0.1111111111111111, \"#46039f\"], [0.2222222222222222, \"#7201a8\"], [0.3333333333333333, \"#9c179e\"], [0.4444444444444444, \"#bd3786\"], [0.5555555555555556, \"#d8576b\"], [0.6666666666666666, \"#ed7953\"], [0.7777777777777778, \"#fb9f3a\"], [0.8888888888888888, \"#fdca26\"], [1.0, \"#f0f921\"]], \"type\": \"surface\"}], \"table\": [{\"cells\": {\"fill\": {\"color\": \"#EBF0F8\"}, \"line\": {\"color\": \"white\"}}, \"header\": {\"fill\": {\"color\": \"#C8D4E3\"}, \"line\": {\"color\": \"white\"}}, \"type\": \"table\"}]}, \"layout\": {\"annotationdefaults\": {\"arrowcolor\": \"#2a3f5f\", \"arrowhead\": 0, \"arrowwidth\": 1}, \"autotypenumbers\": \"strict\", \"coloraxis\": {\"colorbar\": {\"outlinewidth\": 0, \"ticks\": \"\"}}, \"colorscale\": {\"diverging\": [[0, \"#8e0152\"], [0.1, \"#c51b7d\"], [0.2, \"#de77ae\"], [0.3, \"#f1b6da\"], [0.4, \"#fde0ef\"], [0.5, \"#f7f7f7\"], [0.6, \"#e6f5d0\"], [0.7, \"#b8e186\"], [0.8, \"#7fbc41\"], [0.9, \"#4d9221\"], [1, \"#276419\"]], \"sequential\": [[0.0, \"#0d0887\"], [0.1111111111111111, \"#46039f\"], [0.2222222222222222, \"#7201a8\"], [0.3333333333333333, \"#9c179e\"], [0.4444444444444444, \"#bd3786\"], [0.5555555555555556, \"#d8576b\"], [0.6666666666666666, \"#ed7953\"], [0.7777777777777778, \"#fb9f3a\"], [0.8888888888888888, \"#fdca26\"], [1.0, \"#f0f921\"]], \"sequentialminus\": [[0.0, \"#0d0887\"], [0.1111111111111111, \"#46039f\"], [0.2222222222222222, \"#7201a8\"], [0.3333333333333333, \"#9c179e\"], [0.4444444444444444, \"#bd3786\"], [0.5555555555555556, \"#d8576b\"], [0.6666666666666666, \"#ed7953\"], [0.7777777777777778, \"#fb9f3a\"], [0.8888888888888888, \"#fdca26\"], [1.0, \"#f0f921\"]]}, \"colorway\": [\"#636efa\", \"#EF553B\", \"#00cc96\", \"#ab63fa\", \"#FFA15A\", \"#19d3f3\", \"#FF6692\", \"#B6E880\", \"#FF97FF\", \"#FECB52\"], \"font\": {\"color\": \"#2a3f5f\"}, \"geo\": {\"bgcolor\": \"white\", \"lakecolor\": \"white\", \"landcolor\": \"#E5ECF6\", \"showlakes\": true, \"showland\": true, \"subunitcolor\": \"white\"}, \"hoverlabel\": {\"align\": \"left\"}, \"hovermode\": \"closest\", \"mapbox\": {\"style\": \"light\"}, \"paper_bgcolor\": \"white\", \"plot_bgcolor\": \"#E5ECF6\", \"polar\": {\"angularaxis\": {\"gridcolor\": \"white\", \"linecolor\": \"white\", \"ticks\": \"\"}, \"bgcolor\": \"#E5ECF6\", \"radialaxis\": {\"gridcolor\": \"white\", \"linecolor\": \"white\", \"ticks\": \"\"}}, \"scene\": {\"xaxis\": {\"backgroundcolor\": \"#E5ECF6\", \"gridcolor\": \"white\", \"gridwidth\": 2, \"linecolor\": \"white\", \"showbackground\": true, \"ticks\": \"\", \"zerolinecolor\": \"white\"}, \"yaxis\": {\"backgroundcolor\": \"#E5ECF6\", \"gridcolor\": \"white\", \"gridwidth\": 2, \"linecolor\": \"white\", \"showbackground\": true, \"ticks\": \"\", \"zerolinecolor\": \"white\"}, \"zaxis\": {\"backgroundcolor\": \"#E5ECF6\", \"gridcolor\": \"white\", \"gridwidth\": 2, \"linecolor\": \"white\", \"showbackground\": true, \"ticks\": \"\", \"zerolinecolor\": \"white\"}}, \"shapedefaults\": {\"line\": {\"color\": \"#2a3f5f\"}}, \"ternary\": {\"aaxis\": {\"gridcolor\": \"white\", \"linecolor\": \"white\", \"ticks\": \"\"}, \"baxis\": {\"gridcolor\": \"white\", \"linecolor\": \"white\", \"ticks\": \"\"}, \"bgcolor\": \"#E5ECF6\", \"caxis\": {\"gridcolor\": \"white\", \"linecolor\": \"white\", \"ticks\": \"\"}}, \"title\": {\"x\": 0.05}, \"xaxis\": {\"automargin\": true, \"gridcolor\": \"white\", \"linecolor\": \"white\", \"ticks\": \"\", \"title\": {\"standoff\": 15}, \"zerolinecolor\": \"white\", \"zerolinewidth\": 2}, \"yaxis\": {\"automargin\": true, \"gridcolor\": \"white\", \"linecolor\": \"white\", \"ticks\": \"\", \"title\": {\"standoff\": 15}, \"zerolinecolor\": \"white\", \"zerolinewidth\": 2}}}, \"title\": {\"text\": \"inflow hydrograph\"}, \"xaxis\": {\"anchor\": \"y\", \"domain\": [0.0, 1.0], \"title\": {\"text\": \"Unsteady Plot\"}}, \"yaxis\": {\"anchor\": \"x\", \"domain\": [0.0, 1.0], \"title\": {\"text\": \"Unnamed: 1\"}}},                        {\"responsive\": true}                    ).then(function(){\n",
       "                            \n",
       "var gd = document.getElementById('9431cb1e-c76a-4b80-84cd-bec01b945971');\n",
       "var x = new MutationObserver(function (mutations, observer) {{\n",
       "        var display = window.getComputedStyle(gd).display;\n",
       "        if (!display || display === 'none') {{\n",
       "            console.log([gd, 'removed!']);\n",
       "            Plotly.purge(gd);\n",
       "            observer.disconnect();\n",
       "        }}\n",
       "}});\n",
       "\n",
       "// Listen for the removal of the full notebook cells\n",
       "var notebookContainer = gd.closest('#notebook-container');\n",
       "if (notebookContainer) {{\n",
       "    x.observe(notebookContainer, {childList: true});\n",
       "}}\n",
       "\n",
       "// Listen for the clearing of the current output cell\n",
       "var outputEl = gd.closest('.output');\n",
       "if (outputEl) {{\n",
       "    x.observe(outputEl, {childList: true});\n",
       "}}\n",
       "\n",
       "                        })                };                });            </script>        </div>"
      ]
     },
     "metadata": {},
     "output_type": "display_data"
    }
   ],
   "source": [
    "import plotly.express as px\n",
    "fig = px.line(ObservedUS, x=\"Unsteady Plot\", y=\"Unnamed: 1\", title=\"inflow hydrograph\")\n",
    "fig.show()"
   ]
  },
  {
   "cell_type": "code",
   "execution_count": 30,
   "metadata": {},
   "outputs": [],
   "source": [
    "a=Cn*S**.5/n\n",
    "#ie = 292.1 #mm/hr (from part 2 instructions)\n",
    "#ie = 490.22 #mm/hr (from part 1 instructions)"
   ]
  },
  {
   "cell_type": "code",
   "execution_count": 31,
   "metadata": {},
   "outputs": [
    {
     "name": "stdout",
     "output_type": "stream",
     "text": [
      "19\n"
     ]
    },
    {
     "data": {
      "text/plain": [
       "18"
      ]
     },
     "execution_count": 31,
     "metadata": {},
     "output_type": "execute_result"
    }
   ],
   "source": [
    "#Continued Parameter info\n",
    "#=============================================================================\n",
    "#making a floatable range\n",
    "#=============================================================================\n",
    "def frange(start, stop, step):\n",
    "    i = start\n",
    "    while i < stop:\n",
    "        yield i\n",
    "        i += step\n",
    "#============================================================================\n",
    "#time domain\n",
    "Δt=0.00555556 #hrs (converted from 20 seconds)\n",
    "time=[]\n",
    "for i in frange(0,duration,Δt):\n",
    "    time.append(i)\n",
    "\n",
    "#============================================================================\n",
    "#space domain\n",
    "Δx=3.048 #m (converted from 10 ft)\n",
    "space = []\n",
    "for i in frange(0,length,Δx):\n",
    "    space.append(i)\n",
    "print(len(space))\n",
    "a=[0,0,0,0,0,0,0,0,0,0,0,0,0,0,0,0,0,0]\n",
    "len(a)"
   ]
  },
  {
   "cell_type": "code",
   "execution_count": 21,
   "metadata": {},
   "outputs": [
    {
     "name": "stdout",
     "output_type": "stream",
     "text": [
      "          0   Δx  2Δx  3Δx  4Δx  5Δx  6Δx  7Δx  8Δx  9Δx  10Δx  11Δx  12Δx  \\\n",
      "0.000000  0  0.0  0.0  0.0  0.0  0.0  0.0  0.0  0.0  0.0   0.0   0.0   0.0   \n",
      "0.005556  0  0.0  0.0  0.0  0.0  0.0  0.0  0.0  0.0  0.0   0.0   0.0   0.0   \n",
      "0.011111  0  0.0  0.0  0.0  0.0  0.0  0.0  0.0  0.0  0.0   0.0   0.0   0.0   \n",
      "0.016667  0  0.0  0.0  0.0  0.0  0.0  0.0  0.0  0.0  0.0   0.0   0.0   0.0   \n",
      "0.022222  0  0.0  0.0  0.0  0.0  0.0  0.0  0.0  0.0  0.0   0.0   0.0   0.0   \n",
      "0.027778  0  0.0  0.0  0.0  0.0  0.0  0.0  0.0  0.0  0.0   0.0   0.0   0.0   \n",
      "0.033333  0  0.0  0.0  0.0  0.0  0.0  0.0  0.0  0.0  0.0   0.0   0.0   0.0   \n",
      "0.038889  0  0.0  0.0  0.0  0.0  0.0  0.0  0.0  0.0  0.0   0.0   0.0   0.0   \n",
      "0.044444  0  0.0  0.0  0.0  0.0  0.0  0.0  0.0  0.0  0.0   0.0   0.0   0.0   \n",
      "0.050000  0  0.0  0.0  0.0  0.0  0.0  0.0  0.0  0.0  0.0   0.0   0.0   0.0   \n",
      "0.055556  0  0.0  0.0  0.0  0.0  0.0  0.0  0.0  0.0  0.0   0.0   0.0   0.0   \n",
      "0.061111  0  0.0  0.0  0.0  0.0  0.0  0.0  0.0  0.0  0.0   0.0   0.0   0.0   \n",
      "0.066667  0  0.0  0.0  0.0  0.0  0.0  0.0  0.0  0.0  0.0   0.0   0.0   0.0   \n",
      "0.072222  0  0.0  0.0  0.0  0.0  0.0  0.0  0.0  0.0  0.0   0.0   0.0   0.0   \n",
      "0.077778  0  0.0  0.0  0.0  0.0  0.0  0.0  0.0  0.0  0.0   0.0   0.0   0.0   \n",
      "0.083333  0  0.0  0.0  0.0  0.0  0.0  0.0  0.0  0.0  0.0   0.0   0.0   0.0   \n",
      "0.088889  0  0.0  0.0  0.0  0.0  0.0  0.0  0.0  0.0  0.0   0.0   0.0   0.0   \n",
      "0.094445  0  0.0  0.0  0.0  0.0  0.0  0.0  0.0  0.0  0.0   0.0   0.0   0.0   \n",
      "0.100000  0  0.0  0.0  0.0  0.0  0.0  0.0  0.0  0.0  0.0   0.0   0.0   0.0   \n",
      "0.105556  0  0.0  0.0  0.0  0.0  0.0  0.0  0.0  0.0  0.0   0.0   0.0   0.0   \n",
      "0.111111  0  0.0  0.0  0.0  0.0  0.0  0.0  0.0  0.0  0.0   0.0   0.0   0.0   \n",
      "0.116667  0  0.0  0.0  0.0  0.0  0.0  0.0  0.0  0.0  0.0   0.0   0.0   0.0   \n",
      "0.122222  0  0.0  0.0  0.0  0.0  0.0  0.0  0.0  0.0  0.0   0.0   0.0   0.0   \n",
      "0.127778  0  0.0  0.0  0.0  0.0  0.0  0.0  0.0  0.0  0.0   0.0   0.0   0.0   \n",
      "0.133333  0  0.0  0.0  0.0  0.0  0.0  0.0  0.0  0.0  0.0   0.0   0.0   0.0   \n",
      "0.138889  0  0.0  0.0  0.0  0.0  0.0  0.0  0.0  0.0  0.0   0.0   0.0   0.0   \n",
      "0.144445  0  0.0  0.0  0.0  0.0  0.0  0.0  0.0  0.0  0.0   0.0   0.0   0.0   \n",
      "0.150000  0  0.0  0.0  0.0  0.0  0.0  0.0  0.0  0.0  0.0   0.0   0.0   0.0   \n",
      "0.155556  0  0.0  0.0  0.0  0.0  0.0  0.0  0.0  0.0  0.0   0.0   0.0   0.0   \n",
      "0.161111  0  0.0  0.0  0.0  0.0  0.0  0.0  0.0  0.0  0.0   0.0   0.0   0.0   \n",
      "...      ..  ...  ...  ...  ...  ...  ...  ...  ...  ...   ...   ...   ...   \n",
      "1.333334  0  0.0  0.0  0.0  0.0  0.0  0.0  0.0  0.0  0.0   0.0   0.0   0.0   \n",
      "1.338890  0  0.0  0.0  0.0  0.0  0.0  0.0  0.0  0.0  0.0   0.0   0.0   0.0   \n",
      "1.344446  0  0.0  0.0  0.0  0.0  0.0  0.0  0.0  0.0  0.0   0.0   0.0   0.0   \n",
      "1.350001  0  0.0  0.0  0.0  0.0  0.0  0.0  0.0  0.0  0.0   0.0   0.0   0.0   \n",
      "1.355557  0  0.0  0.0  0.0  0.0  0.0  0.0  0.0  0.0  0.0   0.0   0.0   0.0   \n",
      "1.361112  0  0.0  0.0  0.0  0.0  0.0  0.0  0.0  0.0  0.0   0.0   0.0   0.0   \n",
      "1.366668  0  0.0  0.0  0.0  0.0  0.0  0.0  0.0  0.0  0.0   0.0   0.0   0.0   \n",
      "1.372223  0  0.0  0.0  0.0  0.0  0.0  0.0  0.0  0.0  0.0   0.0   0.0   0.0   \n",
      "1.377779  0  0.0  0.0  0.0  0.0  0.0  0.0  0.0  0.0  0.0   0.0   0.0   0.0   \n",
      "1.383334  0  0.0  0.0  0.0  0.0  0.0  0.0  0.0  0.0  0.0   0.0   0.0   0.0   \n",
      "1.388890  0  0.0  0.0  0.0  0.0  0.0  0.0  0.0  0.0  0.0   0.0   0.0   0.0   \n",
      "1.394446  0  0.0  0.0  0.0  0.0  0.0  0.0  0.0  0.0  0.0   0.0   0.0   0.0   \n",
      "1.400001  0  0.0  0.0  0.0  0.0  0.0  0.0  0.0  0.0  0.0   0.0   0.0   0.0   \n",
      "1.405557  0  0.0  0.0  0.0  0.0  0.0  0.0  0.0  0.0  0.0   0.0   0.0   0.0   \n",
      "1.411112  0  0.0  0.0  0.0  0.0  0.0  0.0  0.0  0.0  0.0   0.0   0.0   0.0   \n",
      "1.416668  0  0.0  0.0  0.0  0.0  0.0  0.0  0.0  0.0  0.0   0.0   0.0   0.0   \n",
      "1.422223  0  0.0  0.0  0.0  0.0  0.0  0.0  0.0  0.0  0.0   0.0   0.0   0.0   \n",
      "1.427779  0  0.0  0.0  0.0  0.0  0.0  0.0  0.0  0.0  0.0   0.0   0.0   0.0   \n",
      "1.433334  0  0.0  0.0  0.0  0.0  0.0  0.0  0.0  0.0  0.0   0.0   0.0   0.0   \n",
      "1.438890  0  0.0  0.0  0.0  0.0  0.0  0.0  0.0  0.0  0.0   0.0   0.0   0.0   \n",
      "1.444446  0  0.0  0.0  0.0  0.0  0.0  0.0  0.0  0.0  0.0   0.0   0.0   0.0   \n",
      "1.450001  0  0.0  0.0  0.0  0.0  0.0  0.0  0.0  0.0  0.0   0.0   0.0   0.0   \n",
      "1.455557  0  0.0  0.0  0.0  0.0  0.0  0.0  0.0  0.0  0.0   0.0   0.0   0.0   \n",
      "1.461112  0  0.0  0.0  0.0  0.0  0.0  0.0  0.0  0.0  0.0   0.0   0.0   0.0   \n",
      "1.466668  0  0.0  0.0  0.0  0.0  0.0  0.0  0.0  0.0  0.0   0.0   0.0   0.0   \n",
      "1.472223  0  0.0  0.0  0.0  0.0  0.0  0.0  0.0  0.0  0.0   0.0   0.0   0.0   \n",
      "1.477779  0  0.0  0.0  0.0  0.0  0.0  0.0  0.0  0.0  0.0   0.0   0.0   0.0   \n",
      "1.483335  0  0.0  0.0  0.0  0.0  0.0  0.0  0.0  0.0  0.0   0.0   0.0   0.0   \n",
      "1.488890  0  0.0  0.0  0.0  0.0  0.0  0.0  0.0  0.0  0.0   0.0   0.0   0.0   \n",
      "1.494446  0  0.0  0.0  0.0  0.0  0.0  0.0  0.0  0.0  0.0   0.0   0.0   0.0   \n",
      "\n",
      "          13Δx  14Δx  15Δx  16Δx  17Δx  18Δx  \n",
      "0.000000   0.0   0.0   0.0   0.0   0.0   0.0  \n",
      "0.005556   0.0   0.0   0.0   0.0   0.0   0.0  \n",
      "0.011111   0.0   0.0   0.0   0.0   0.0   0.0  \n",
      "0.016667   0.0   0.0   0.0   0.0   0.0   0.0  \n",
      "0.022222   0.0   0.0   0.0   0.0   0.0   0.0  \n",
      "0.027778   0.0   0.0   0.0   0.0   0.0   0.0  \n",
      "0.033333   0.0   0.0   0.0   0.0   0.0   0.0  \n",
      "0.038889   0.0   0.0   0.0   0.0   0.0   0.0  \n",
      "0.044444   0.0   0.0   0.0   0.0   0.0   0.0  \n",
      "0.050000   0.0   0.0   0.0   0.0   0.0   0.0  \n",
      "0.055556   0.0   0.0   0.0   0.0   0.0   0.0  \n",
      "0.061111   0.0   0.0   0.0   0.0   0.0   0.0  \n",
      "0.066667   0.0   0.0   0.0   0.0   0.0   0.0  \n",
      "0.072222   0.0   0.0   0.0   0.0   0.0   0.0  \n",
      "0.077778   0.0   0.0   0.0   0.0   0.0   0.0  \n",
      "0.083333   0.0   0.0   0.0   0.0   0.0   0.0  \n",
      "0.088889   0.0   0.0   0.0   0.0   0.0   0.0  \n",
      "0.094445   0.0   0.0   0.0   0.0   0.0   0.0  \n",
      "0.100000   0.0   0.0   0.0   0.0   0.0   0.0  \n",
      "0.105556   0.0   0.0   0.0   0.0   0.0   0.0  \n",
      "0.111111   0.0   0.0   0.0   0.0   0.0   0.0  \n",
      "0.116667   0.0   0.0   0.0   0.0   0.0   0.0  \n",
      "0.122222   0.0   0.0   0.0   0.0   0.0   0.0  \n",
      "0.127778   0.0   0.0   0.0   0.0   0.0   0.0  \n",
      "0.133333   0.0   0.0   0.0   0.0   0.0   0.0  \n",
      "0.138889   0.0   0.0   0.0   0.0   0.0   0.0  \n",
      "0.144445   0.0   0.0   0.0   0.0   0.0   0.0  \n",
      "0.150000   0.0   0.0   0.0   0.0   0.0   0.0  \n",
      "0.155556   0.0   0.0   0.0   0.0   0.0   0.0  \n",
      "0.161111   0.0   0.0   0.0   0.0   0.0   0.0  \n",
      "...        ...   ...   ...   ...   ...   ...  \n",
      "1.333334   0.0   0.0   0.0   0.0   0.0   0.0  \n",
      "1.338890   0.0   0.0   0.0   0.0   0.0   0.0  \n",
      "1.344446   0.0   0.0   0.0   0.0   0.0   0.0  \n",
      "1.350001   0.0   0.0   0.0   0.0   0.0   0.0  \n",
      "1.355557   0.0   0.0   0.0   0.0   0.0   0.0  \n",
      "1.361112   0.0   0.0   0.0   0.0   0.0   0.0  \n",
      "1.366668   0.0   0.0   0.0   0.0   0.0   0.0  \n",
      "1.372223   0.0   0.0   0.0   0.0   0.0   0.0  \n",
      "1.377779   0.0   0.0   0.0   0.0   0.0   0.0  \n",
      "1.383334   0.0   0.0   0.0   0.0   0.0   0.0  \n",
      "1.388890   0.0   0.0   0.0   0.0   0.0   0.0  \n",
      "1.394446   0.0   0.0   0.0   0.0   0.0   0.0  \n",
      "1.400001   0.0   0.0   0.0   0.0   0.0   0.0  \n",
      "1.405557   0.0   0.0   0.0   0.0   0.0   0.0  \n",
      "1.411112   0.0   0.0   0.0   0.0   0.0   0.0  \n",
      "1.416668   0.0   0.0   0.0   0.0   0.0   0.0  \n",
      "1.422223   0.0   0.0   0.0   0.0   0.0   0.0  \n",
      "1.427779   0.0   0.0   0.0   0.0   0.0   0.0  \n",
      "1.433334   0.0   0.0   0.0   0.0   0.0   0.0  \n",
      "1.438890   0.0   0.0   0.0   0.0   0.0   0.0  \n",
      "1.444446   0.0   0.0   0.0   0.0   0.0   0.0  \n",
      "1.450001   0.0   0.0   0.0   0.0   0.0   0.0  \n",
      "1.455557   0.0   0.0   0.0   0.0   0.0   0.0  \n",
      "1.461112   0.0   0.0   0.0   0.0   0.0   0.0  \n",
      "1.466668   0.0   0.0   0.0   0.0   0.0   0.0  \n",
      "1.472223   0.0   0.0   0.0   0.0   0.0   0.0  \n",
      "1.477779   0.0   0.0   0.0   0.0   0.0   0.0  \n",
      "1.483335   0.0   0.0   0.0   0.0   0.0   0.0  \n",
      "1.488890   0.0   0.0   0.0   0.0   0.0   0.0  \n",
      "1.494446   0.0   0.0   0.0   0.0   0.0   0.0  \n",
      "\n",
      "[270 rows x 19 columns]\n"
     ]
    }
   ],
   "source": [
    "newflow = {0:[0,0,0,0,0,0,0,0,0,0,0,0,0,0,0,0,0,0,0]}\n",
    "timecounter = 0\n",
    "referencetime =0\n",
    "for j in range(0,len(time)-1):\n",
    "    timecounter+=Δt\n",
    "    newspaceflow=[0]\n",
    "    for i in range(0,len(space)-1):\n",
    "        qj1i=newspaceflow[i] #q^j+1,i\n",
    "        qji1=newflow[(referencetime)][i] #q^j,i+1\n",
    "        starter=(qj1i+qji1)/2\n",
    "        if starter!=0:\n",
    "            middleterm=starter**(β-1)\n",
    "            qnext=(qj1i*(Δt/Δx)+α*β*qji1*middleterm+Δt*(estimateie(timecounter)))/((Δt/Δx)+α*β*middleterm)\n",
    "            #qnext=(qj1i*(Δt/Δx)+α*β*qji1*middleterm+Δt*(72.6))/((Δt/Δx)+α*β*middleterm)\n",
    "        else:\n",
    "            middleterm=0\n",
    "            qnext=(qj1i*(Δt/Δx)+α*β*qji1*middleterm+Δt*(estimateie(timecounter)))/((Δt/Δx)+α*β*middleterm)\n",
    "            #qnext=(qj1i*(Δt/Δx)+α*β*qji1*middleterm+Δt*(72.6))/((Δt/Δx)+α*β*middleterm)\n",
    "        newspaceflow.append(qnext)\n",
    "    referencetime+=Δt\n",
    "    newflow[timecounter]=newspaceflow\n",
    "columnNames = ['0','Δx','2Δx','3Δx','4Δx','5Δx','6Δx','7Δx','8Δx','9Δx','10Δx','11Δx','12Δx','13Δx','14Δx','15Δx','16Δx','17Δx','18Δx']\n",
    "df=pd.DataFrame.from_dict(newflow,orient='index', columns = columnNames)\n",
    "print(df)"
   ]
  },
  {
   "cell_type": "code",
   "execution_count": 34,
   "metadata": {},
   "outputs": [
    {
     "data": {
      "application/vnd.plotly.v1+json": {
       "config": {
        "plotlyServerURL": "https://plot.ly"
       },
       "data": [
        {
         "hovertemplate": "variable=17Δx<br>index=%{x}<br>value=%{y}<extra></extra>",
         "legendgroup": "17Δx",
         "line": {
          "color": "#636efa",
          "dash": "solid"
         },
         "mode": "lines",
         "name": "17Δx",
         "orientation": "v",
         "showlegend": true,
         "type": "scatter",
         "x": [
          0,
          0.00555556,
          0.01111112,
          0.01666668,
          0.02222224,
          0.027777800000000002,
          0.03333336,
          0.03888892,
          0.04444448,
          0.05000004,
          0.055555600000000004,
          0.061111160000000005,
          0.06666672,
          0.07222228,
          0.07777784,
          0.0833334,
          0.08888896,
          0.09444452,
          0.10000008,
          0.10555564,
          0.11111120000000001,
          0.11666676000000001,
          0.12222232000000001,
          0.12777788,
          0.13333344,
          0.13888899999999998,
          0.14444455999999997,
          0.15000011999999996,
          0.15555567999999995,
          0.16111123999999993,
          0.16666679999999992,
          0.1722223599999999,
          0.1777779199999999,
          0.18333347999999988,
          0.18888903999999987,
          0.19444459999999986,
          0.20000015999999984,
          0.20555571999999983,
          0.21111127999999982,
          0.2166668399999998,
          0.2222223999999998,
          0.22777795999999978,
          0.23333351999999977,
          0.23888907999999975,
          0.24444463999999974,
          0.25000019999999973,
          0.25555575999999974,
          0.26111131999999976,
          0.2666668799999998,
          0.2722224399999998,
          0.2777779999999998,
          0.2833335599999998,
          0.28888911999999983,
          0.29444467999999985,
          0.30000023999999986,
          0.3055557999999999,
          0.3111113599999999,
          0.3166669199999999,
          0.3222224799999999,
          0.32777803999999994,
          0.33333359999999995,
          0.33888915999999997,
          0.34444472,
          0.35000028,
          0.35555584,
          0.3611114,
          0.36666696000000004,
          0.37222252000000006,
          0.37777808000000007,
          0.3833336400000001,
          0.3888892000000001,
          0.3944447600000001,
          0.40000032000000013,
          0.40555588000000015,
          0.41111144000000016,
          0.4166670000000002,
          0.4222225600000002,
          0.4277781200000002,
          0.4333336800000002,
          0.43888924000000024,
          0.44444480000000025,
          0.45000036000000027,
          0.4555559200000003,
          0.4611114800000003,
          0.4666670400000003,
          0.4722226000000003,
          0.47777816000000034,
          0.48333372000000036,
          0.48888928000000037,
          0.4944448400000004,
          0.5000004000000003,
          0.5055559600000004,
          0.5111115200000004,
          0.5166670800000004,
          0.5222226400000004,
          0.5277782000000004,
          0.5333337600000004,
          0.5388893200000004,
          0.5444448800000005,
          0.5500004400000005,
          0.5555560000000005,
          0.5611115600000005,
          0.5666671200000005,
          0.5722226800000005,
          0.5777782400000006,
          0.5833338000000006,
          0.5888893600000006,
          0.5944449200000006,
          0.6000004800000006,
          0.6055560400000006,
          0.6111116000000006,
          0.6166671600000007,
          0.6222227200000007,
          0.6277782800000007,
          0.6333338400000007,
          0.6388894000000007,
          0.6444449600000007,
          0.6500005200000007,
          0.6555560800000008,
          0.6611116400000008,
          0.6666672000000008,
          0.6722227600000008,
          0.6777783200000008,
          0.6833338800000008,
          0.6888894400000009,
          0.6944450000000009,
          0.7000005600000009,
          0.7055561200000009,
          0.7111116800000009,
          0.7166672400000009,
          0.7222228000000009,
          0.727778360000001,
          0.733333920000001,
          0.738889480000001,
          0.744445040000001,
          0.750000600000001,
          0.755556160000001,
          0.761111720000001,
          0.7666672800000011,
          0.7722228400000011,
          0.7777784000000011,
          0.7833339600000011,
          0.7888895200000011,
          0.7944450800000011,
          0.8000006400000012,
          0.8055562000000012,
          0.8111117600000012,
          0.8166673200000012,
          0.8222228800000012,
          0.8277784400000012,
          0.8333340000000012,
          0.8388895600000013,
          0.8444451200000013,
          0.8500006800000013,
          0.8555562400000013,
          0.8611118000000013,
          0.8666673600000013,
          0.8722229200000013,
          0.8777784800000014,
          0.8833340400000014,
          0.8888896000000014,
          0.8944451600000014,
          0.9000007200000014,
          0.9055562800000014,
          0.9111118400000014,
          0.9166674000000015,
          0.9222229600000015,
          0.9277785200000015,
          0.9333340800000015,
          0.9388896400000015,
          0.9444452000000015,
          0.9500007600000016,
          0.9555563200000016,
          0.9611118800000016,
          0.9666674400000016,
          0.9722230000000016,
          0.9777785600000016,
          0.9833341200000016,
          0.9888896800000017,
          0.9944452400000017,
          1.0000008000000016,
          1.0055563600000015,
          1.0111119200000014,
          1.0166674800000013,
          1.0222230400000012,
          1.027778600000001,
          1.033334160000001,
          1.038889720000001,
          1.0444452800000008,
          1.0500008400000007,
          1.0555564000000006,
          1.0611119600000005,
          1.0666675200000004,
          1.0722230800000003,
          1.0777786400000002,
          1.0833342000000001,
          1.08888976,
          1.09444532,
          1.1000008799999998,
          1.1055564399999998,
          1.1111119999999997,
          1.1166675599999996,
          1.1222231199999995,
          1.1277786799999994,
          1.1333342399999993,
          1.1388897999999992,
          1.144445359999999,
          1.150000919999999,
          1.1555564799999989,
          1.1611120399999988,
          1.1666675999999987,
          1.1722231599999986,
          1.1777787199999985,
          1.1833342799999984,
          1.1888898399999983,
          1.1944453999999982,
          1.2000009599999981,
          1.205556519999998,
          1.211112079999998,
          1.2166676399999978,
          1.2222231999999977,
          1.2277787599999976,
          1.2333343199999975,
          1.2388898799999974,
          1.2444454399999973,
          1.2500009999999973,
          1.2555565599999972,
          1.261112119999997,
          1.266667679999997,
          1.2722232399999969,
          1.2777787999999968,
          1.2833343599999967,
          1.2888899199999966,
          1.2944454799999965,
          1.3000010399999964,
          1.3055565999999963,
          1.3111121599999962,
          1.316667719999996,
          1.322223279999996,
          1.327778839999996,
          1.3333343999999958,
          1.3388899599999957,
          1.3444455199999956,
          1.3500010799999955,
          1.3555566399999954,
          1.3611121999999953,
          1.3666677599999952,
          1.3722233199999951,
          1.377778879999995,
          1.383334439999995,
          1.3888899999999949,
          1.3944455599999948,
          1.4000011199999947,
          1.4055566799999946,
          1.4111122399999945,
          1.4166677999999944,
          1.4222233599999943,
          1.4277789199999942,
          1.433334479999994,
          1.438890039999994,
          1.444445599999994,
          1.4500011599999938,
          1.4555567199999937,
          1.4611122799999936,
          1.4666678399999935,
          1.4722233999999934,
          1.4777789599999933,
          1.4833345199999932,
          1.4888900799999931,
          1.494445639999993
         ],
         "xaxis": "x",
         "y": [
          0,
          0,
          0,
          0,
          0,
          0,
          0,
          0,
          0,
          0,
          0,
          0,
          0,
          0,
          0,
          0,
          0,
          0,
          0,
          0,
          0,
          0,
          0,
          0,
          0,
          0,
          0,
          0,
          0,
          0,
          0,
          0,
          0,
          0,
          0,
          0,
          0,
          0,
          0,
          0,
          0,
          0,
          1.90287302596128e-07,
          5.128637205960518e-07,
          9.470578698195572e-07,
          1.4819246363597124e-06,
          2.110524248104108e-06,
          2.8281720257924945e-06,
          3.6319801820665218e-06,
          4.5214829483195095e-06,
          5.501505876721283e-06,
          6.5917284919018055e-06,
          7.85940571434444e-06,
          9.542867058678934e-06,
          1.2593149164430973e-05,
          2.1816172864644314e-05,
          7.91971143596211e-05,
          0.001518574858720811,
          0.17909297487390596,
          0.179988660941034,
          0.1808740703515371,
          0.18174932085952944,
          0.18261452887421098,
          0.18346980947509262,
          0.18431527642705475,
          0.18515104219523854,
          0.18597721795977334,
          0.186793913630342,
          0.1876012378605847,
          0.18839929806234262,
          0.1891882004197458,
          0.18996804990314306,
          0.19073895028287724,
          0.1915010041429087,
          0.1922543128942875,
          0.19299897678847253,
          0.19373509493050717,
          0.19446276529204395,
          0.19518208472422646,
          0.19589314897042626,
          0.19659605267883787,
          0.1972908894149333,
          0.19797775167377718,
          0.19865673089220315,
          0.19925288816927467,
          0.19984095743267077,
          0.2004210325756927,
          0.2009932064038292,
          0.2015575706474786,
          0.2021142159745144,
          0.20266323200269648,
          0.20320470731192924,
          0.20373872945637067,
          0.20426538497639324,
          0.20478475941039934,
          0.20529693730648868,
          0.20580200222887882,
          0.20630003247653053,
          0.20678859469189564,
          0.20635429145131132,
          0,
          0,
          0,
          0,
          0,
          0,
          0,
          0,
          0,
          0,
          0,
          0,
          0,
          0,
          0,
          0,
          0,
          0,
          0,
          0,
          0,
          0,
          0,
          0,
          0,
          0,
          0,
          0,
          0,
          0,
          0,
          0,
          0,
          0,
          0,
          0,
          0,
          0,
          0,
          0,
          0,
          0,
          0,
          0,
          0,
          0,
          0,
          0,
          0,
          0,
          0,
          0,
          0,
          0,
          0,
          0,
          0,
          0,
          0,
          0,
          0,
          0,
          0,
          0,
          0,
          0,
          0,
          0,
          0,
          0,
          0,
          0,
          0,
          0,
          0,
          0,
          0,
          0,
          0,
          0,
          0,
          0,
          0,
          0,
          0,
          0,
          0,
          0,
          0,
          0,
          0,
          0,
          0,
          0,
          0,
          0,
          0,
          0,
          0,
          0,
          0,
          0,
          0,
          0,
          0,
          0,
          0,
          0,
          0,
          0,
          0,
          0,
          0,
          0,
          0,
          0,
          0,
          0,
          0,
          0,
          0,
          0,
          0,
          0,
          0,
          0,
          0,
          0,
          0,
          0,
          0,
          0,
          0,
          0,
          0,
          0,
          0,
          0,
          0,
          0,
          0,
          0,
          0,
          0,
          0,
          0,
          0,
          0,
          0,
          0,
          0,
          0,
          0,
          0,
          0,
          0,
          0,
          0,
          0,
          0,
          0,
          0,
          0,
          0,
          0,
          0,
          0,
          0,
          0,
          0
         ],
         "yaxis": "y"
        },
        {
         "mode": "lines",
         "type": "scatter",
         "x": [
          0,
          0.16666666666666666,
          0.3333333333333333,
          0.5,
          0.6666666666666666,
          0.8333333333333334,
          1,
          1.1666666666666667,
          1.3333333333333333,
          1.5
         ],
         "y": [
          0,
          0,
          0.0396,
          0.201,
          0.2346,
          0.1164,
          0.0495,
          0.0234,
          0.012,
          0.006599999999999999
         ]
        }
       ],
       "layout": {
        "legend": {
         "title": {
          "text": "variable"
         },
         "tracegroupgap": 0
        },
        "template": {
         "data": {
          "bar": [
           {
            "error_x": {
             "color": "#2a3f5f"
            },
            "error_y": {
             "color": "#2a3f5f"
            },
            "marker": {
             "line": {
              "color": "#E5ECF6",
              "width": 0.5
             }
            },
            "type": "bar"
           }
          ],
          "barpolar": [
           {
            "marker": {
             "line": {
              "color": "#E5ECF6",
              "width": 0.5
             }
            },
            "type": "barpolar"
           }
          ],
          "carpet": [
           {
            "aaxis": {
             "endlinecolor": "#2a3f5f",
             "gridcolor": "white",
             "linecolor": "white",
             "minorgridcolor": "white",
             "startlinecolor": "#2a3f5f"
            },
            "baxis": {
             "endlinecolor": "#2a3f5f",
             "gridcolor": "white",
             "linecolor": "white",
             "minorgridcolor": "white",
             "startlinecolor": "#2a3f5f"
            },
            "type": "carpet"
           }
          ],
          "choropleth": [
           {
            "colorbar": {
             "outlinewidth": 0,
             "ticks": ""
            },
            "type": "choropleth"
           }
          ],
          "contour": [
           {
            "colorbar": {
             "outlinewidth": 0,
             "ticks": ""
            },
            "colorscale": [
             [
              0,
              "#0d0887"
             ],
             [
              0.1111111111111111,
              "#46039f"
             ],
             [
              0.2222222222222222,
              "#7201a8"
             ],
             [
              0.3333333333333333,
              "#9c179e"
             ],
             [
              0.4444444444444444,
              "#bd3786"
             ],
             [
              0.5555555555555556,
              "#d8576b"
             ],
             [
              0.6666666666666666,
              "#ed7953"
             ],
             [
              0.7777777777777778,
              "#fb9f3a"
             ],
             [
              0.8888888888888888,
              "#fdca26"
             ],
             [
              1,
              "#f0f921"
             ]
            ],
            "type": "contour"
           }
          ],
          "contourcarpet": [
           {
            "colorbar": {
             "outlinewidth": 0,
             "ticks": ""
            },
            "type": "contourcarpet"
           }
          ],
          "heatmap": [
           {
            "colorbar": {
             "outlinewidth": 0,
             "ticks": ""
            },
            "colorscale": [
             [
              0,
              "#0d0887"
             ],
             [
              0.1111111111111111,
              "#46039f"
             ],
             [
              0.2222222222222222,
              "#7201a8"
             ],
             [
              0.3333333333333333,
              "#9c179e"
             ],
             [
              0.4444444444444444,
              "#bd3786"
             ],
             [
              0.5555555555555556,
              "#d8576b"
             ],
             [
              0.6666666666666666,
              "#ed7953"
             ],
             [
              0.7777777777777778,
              "#fb9f3a"
             ],
             [
              0.8888888888888888,
              "#fdca26"
             ],
             [
              1,
              "#f0f921"
             ]
            ],
            "type": "heatmap"
           }
          ],
          "heatmapgl": [
           {
            "colorbar": {
             "outlinewidth": 0,
             "ticks": ""
            },
            "colorscale": [
             [
              0,
              "#0d0887"
             ],
             [
              0.1111111111111111,
              "#46039f"
             ],
             [
              0.2222222222222222,
              "#7201a8"
             ],
             [
              0.3333333333333333,
              "#9c179e"
             ],
             [
              0.4444444444444444,
              "#bd3786"
             ],
             [
              0.5555555555555556,
              "#d8576b"
             ],
             [
              0.6666666666666666,
              "#ed7953"
             ],
             [
              0.7777777777777778,
              "#fb9f3a"
             ],
             [
              0.8888888888888888,
              "#fdca26"
             ],
             [
              1,
              "#f0f921"
             ]
            ],
            "type": "heatmapgl"
           }
          ],
          "histogram": [
           {
            "marker": {
             "colorbar": {
              "outlinewidth": 0,
              "ticks": ""
             }
            },
            "type": "histogram"
           }
          ],
          "histogram2d": [
           {
            "colorbar": {
             "outlinewidth": 0,
             "ticks": ""
            },
            "colorscale": [
             [
              0,
              "#0d0887"
             ],
             [
              0.1111111111111111,
              "#46039f"
             ],
             [
              0.2222222222222222,
              "#7201a8"
             ],
             [
              0.3333333333333333,
              "#9c179e"
             ],
             [
              0.4444444444444444,
              "#bd3786"
             ],
             [
              0.5555555555555556,
              "#d8576b"
             ],
             [
              0.6666666666666666,
              "#ed7953"
             ],
             [
              0.7777777777777778,
              "#fb9f3a"
             ],
             [
              0.8888888888888888,
              "#fdca26"
             ],
             [
              1,
              "#f0f921"
             ]
            ],
            "type": "histogram2d"
           }
          ],
          "histogram2dcontour": [
           {
            "colorbar": {
             "outlinewidth": 0,
             "ticks": ""
            },
            "colorscale": [
             [
              0,
              "#0d0887"
             ],
             [
              0.1111111111111111,
              "#46039f"
             ],
             [
              0.2222222222222222,
              "#7201a8"
             ],
             [
              0.3333333333333333,
              "#9c179e"
             ],
             [
              0.4444444444444444,
              "#bd3786"
             ],
             [
              0.5555555555555556,
              "#d8576b"
             ],
             [
              0.6666666666666666,
              "#ed7953"
             ],
             [
              0.7777777777777778,
              "#fb9f3a"
             ],
             [
              0.8888888888888888,
              "#fdca26"
             ],
             [
              1,
              "#f0f921"
             ]
            ],
            "type": "histogram2dcontour"
           }
          ],
          "mesh3d": [
           {
            "colorbar": {
             "outlinewidth": 0,
             "ticks": ""
            },
            "type": "mesh3d"
           }
          ],
          "parcoords": [
           {
            "line": {
             "colorbar": {
              "outlinewidth": 0,
              "ticks": ""
             }
            },
            "type": "parcoords"
           }
          ],
          "pie": [
           {
            "automargin": true,
            "type": "pie"
           }
          ],
          "scatter": [
           {
            "marker": {
             "colorbar": {
              "outlinewidth": 0,
              "ticks": ""
             }
            },
            "type": "scatter"
           }
          ],
          "scatter3d": [
           {
            "line": {
             "colorbar": {
              "outlinewidth": 0,
              "ticks": ""
             }
            },
            "marker": {
             "colorbar": {
              "outlinewidth": 0,
              "ticks": ""
             }
            },
            "type": "scatter3d"
           }
          ],
          "scattercarpet": [
           {
            "marker": {
             "colorbar": {
              "outlinewidth": 0,
              "ticks": ""
             }
            },
            "type": "scattercarpet"
           }
          ],
          "scattergeo": [
           {
            "marker": {
             "colorbar": {
              "outlinewidth": 0,
              "ticks": ""
             }
            },
            "type": "scattergeo"
           }
          ],
          "scattergl": [
           {
            "marker": {
             "colorbar": {
              "outlinewidth": 0,
              "ticks": ""
             }
            },
            "type": "scattergl"
           }
          ],
          "scattermapbox": [
           {
            "marker": {
             "colorbar": {
              "outlinewidth": 0,
              "ticks": ""
             }
            },
            "type": "scattermapbox"
           }
          ],
          "scatterpolar": [
           {
            "marker": {
             "colorbar": {
              "outlinewidth": 0,
              "ticks": ""
             }
            },
            "type": "scatterpolar"
           }
          ],
          "scatterpolargl": [
           {
            "marker": {
             "colorbar": {
              "outlinewidth": 0,
              "ticks": ""
             }
            },
            "type": "scatterpolargl"
           }
          ],
          "scatterternary": [
           {
            "marker": {
             "colorbar": {
              "outlinewidth": 0,
              "ticks": ""
             }
            },
            "type": "scatterternary"
           }
          ],
          "surface": [
           {
            "colorbar": {
             "outlinewidth": 0,
             "ticks": ""
            },
            "colorscale": [
             [
              0,
              "#0d0887"
             ],
             [
              0.1111111111111111,
              "#46039f"
             ],
             [
              0.2222222222222222,
              "#7201a8"
             ],
             [
              0.3333333333333333,
              "#9c179e"
             ],
             [
              0.4444444444444444,
              "#bd3786"
             ],
             [
              0.5555555555555556,
              "#d8576b"
             ],
             [
              0.6666666666666666,
              "#ed7953"
             ],
             [
              0.7777777777777778,
              "#fb9f3a"
             ],
             [
              0.8888888888888888,
              "#fdca26"
             ],
             [
              1,
              "#f0f921"
             ]
            ],
            "type": "surface"
           }
          ],
          "table": [
           {
            "cells": {
             "fill": {
              "color": "#EBF0F8"
             },
             "line": {
              "color": "white"
             }
            },
            "header": {
             "fill": {
              "color": "#C8D4E3"
             },
             "line": {
              "color": "white"
             }
            },
            "type": "table"
           }
          ]
         },
         "layout": {
          "annotationdefaults": {
           "arrowcolor": "#2a3f5f",
           "arrowhead": 0,
           "arrowwidth": 1
          },
          "autotypenumbers": "strict",
          "coloraxis": {
           "colorbar": {
            "outlinewidth": 0,
            "ticks": ""
           }
          },
          "colorscale": {
           "diverging": [
            [
             0,
             "#8e0152"
            ],
            [
             0.1,
             "#c51b7d"
            ],
            [
             0.2,
             "#de77ae"
            ],
            [
             0.3,
             "#f1b6da"
            ],
            [
             0.4,
             "#fde0ef"
            ],
            [
             0.5,
             "#f7f7f7"
            ],
            [
             0.6,
             "#e6f5d0"
            ],
            [
             0.7,
             "#b8e186"
            ],
            [
             0.8,
             "#7fbc41"
            ],
            [
             0.9,
             "#4d9221"
            ],
            [
             1,
             "#276419"
            ]
           ],
           "sequential": [
            [
             0,
             "#0d0887"
            ],
            [
             0.1111111111111111,
             "#46039f"
            ],
            [
             0.2222222222222222,
             "#7201a8"
            ],
            [
             0.3333333333333333,
             "#9c179e"
            ],
            [
             0.4444444444444444,
             "#bd3786"
            ],
            [
             0.5555555555555556,
             "#d8576b"
            ],
            [
             0.6666666666666666,
             "#ed7953"
            ],
            [
             0.7777777777777778,
             "#fb9f3a"
            ],
            [
             0.8888888888888888,
             "#fdca26"
            ],
            [
             1,
             "#f0f921"
            ]
           ],
           "sequentialminus": [
            [
             0,
             "#0d0887"
            ],
            [
             0.1111111111111111,
             "#46039f"
            ],
            [
             0.2222222222222222,
             "#7201a8"
            ],
            [
             0.3333333333333333,
             "#9c179e"
            ],
            [
             0.4444444444444444,
             "#bd3786"
            ],
            [
             0.5555555555555556,
             "#d8576b"
            ],
            [
             0.6666666666666666,
             "#ed7953"
            ],
            [
             0.7777777777777778,
             "#fb9f3a"
            ],
            [
             0.8888888888888888,
             "#fdca26"
            ],
            [
             1,
             "#f0f921"
            ]
           ]
          },
          "colorway": [
           "#636efa",
           "#EF553B",
           "#00cc96",
           "#ab63fa",
           "#FFA15A",
           "#19d3f3",
           "#FF6692",
           "#B6E880",
           "#FF97FF",
           "#FECB52"
          ],
          "font": {
           "color": "#2a3f5f"
          },
          "geo": {
           "bgcolor": "white",
           "lakecolor": "white",
           "landcolor": "#E5ECF6",
           "showlakes": true,
           "showland": true,
           "subunitcolor": "white"
          },
          "hoverlabel": {
           "align": "left"
          },
          "hovermode": "closest",
          "mapbox": {
           "style": "light"
          },
          "paper_bgcolor": "white",
          "plot_bgcolor": "#E5ECF6",
          "polar": {
           "angularaxis": {
            "gridcolor": "white",
            "linecolor": "white",
            "ticks": ""
           },
           "bgcolor": "#E5ECF6",
           "radialaxis": {
            "gridcolor": "white",
            "linecolor": "white",
            "ticks": ""
           }
          },
          "scene": {
           "xaxis": {
            "backgroundcolor": "#E5ECF6",
            "gridcolor": "white",
            "gridwidth": 2,
            "linecolor": "white",
            "showbackground": true,
            "ticks": "",
            "zerolinecolor": "white"
           },
           "yaxis": {
            "backgroundcolor": "#E5ECF6",
            "gridcolor": "white",
            "gridwidth": 2,
            "linecolor": "white",
            "showbackground": true,
            "ticks": "",
            "zerolinecolor": "white"
           },
           "zaxis": {
            "backgroundcolor": "#E5ECF6",
            "gridcolor": "white",
            "gridwidth": 2,
            "linecolor": "white",
            "showbackground": true,
            "ticks": "",
            "zerolinecolor": "white"
           }
          },
          "shapedefaults": {
           "line": {
            "color": "#2a3f5f"
           }
          },
          "ternary": {
           "aaxis": {
            "gridcolor": "white",
            "linecolor": "white",
            "ticks": ""
           },
           "baxis": {
            "gridcolor": "white",
            "linecolor": "white",
            "ticks": ""
           },
           "bgcolor": "#E5ECF6",
           "caxis": {
            "gridcolor": "white",
            "linecolor": "white",
            "ticks": ""
           }
          },
          "title": {
           "x": 0.05
          },
          "xaxis": {
           "automargin": true,
           "gridcolor": "white",
           "linecolor": "white",
           "ticks": "",
           "title": {
            "standoff": 15
           },
           "zerolinecolor": "white",
           "zerolinewidth": 2
          },
          "yaxis": {
           "automargin": true,
           "gridcolor": "white",
           "linecolor": "white",
           "ticks": "",
           "title": {
            "standoff": 15
           },
           "zerolinecolor": "white",
           "zerolinewidth": 2
          }
         }
        },
        "title": {
         "text": "Flow rates"
        },
        "xaxis": {
         "anchor": "y",
         "domain": [
          0,
          1
         ],
         "title": {
          "text": "index"
         }
        },
        "yaxis": {
         "anchor": "x",
         "domain": [
          0,
          1
         ],
         "title": {
          "text": "value"
         }
        }
       }
      },
      "text/html": [
       "<div>                            <div id=\"057391d2-02e5-4076-89c7-e7665efac7fb\" class=\"plotly-graph-div\" style=\"height:525px; width:100%;\"></div>            <script type=\"text/javascript\">                require([\"plotly\"], function(Plotly) {                    window.PLOTLYENV=window.PLOTLYENV || {};                                    if (document.getElementById(\"057391d2-02e5-4076-89c7-e7665efac7fb\")) {                    Plotly.newPlot(                        \"057391d2-02e5-4076-89c7-e7665efac7fb\",                        [{\"hovertemplate\": \"variable=17\\u0394x<br>index=%{x}<br>value=%{y}<extra></extra>\", \"legendgroup\": \"17\\u0394x\", \"line\": {\"color\": \"#636efa\", \"dash\": \"solid\"}, \"mode\": \"lines\", \"name\": \"17\\u0394x\", \"orientation\": \"v\", \"showlegend\": true, \"type\": \"scatter\", \"x\": [0.0, 0.00555556, 0.01111112, 0.01666668, 0.02222224, 0.027777800000000002, 0.03333336, 0.03888892, 0.04444448, 0.05000004, 0.055555600000000004, 0.061111160000000005, 0.06666672, 0.07222228, 0.07777784, 0.0833334, 0.08888896, 0.09444452, 0.10000008, 0.10555564, 0.11111120000000001, 0.11666676000000001, 0.12222232000000001, 0.12777788, 0.13333344, 0.13888899999999998, 0.14444455999999997, 0.15000011999999996, 0.15555567999999995, 0.16111123999999993, 0.16666679999999992, 0.1722223599999999, 0.1777779199999999, 0.18333347999999988, 0.18888903999999987, 0.19444459999999986, 0.20000015999999984, 0.20555571999999983, 0.21111127999999982, 0.2166668399999998, 0.2222223999999998, 0.22777795999999978, 0.23333351999999977, 0.23888907999999975, 0.24444463999999974, 0.25000019999999973, 0.25555575999999974, 0.26111131999999976, 0.2666668799999998, 0.2722224399999998, 0.2777779999999998, 0.2833335599999998, 0.28888911999999983, 0.29444467999999985, 0.30000023999999986, 0.3055557999999999, 0.3111113599999999, 0.3166669199999999, 0.3222224799999999, 0.32777803999999994, 0.33333359999999995, 0.33888915999999997, 0.34444472, 0.35000028, 0.35555584, 0.3611114, 0.36666696000000004, 0.37222252000000006, 0.37777808000000007, 0.3833336400000001, 0.3888892000000001, 0.3944447600000001, 0.40000032000000013, 0.40555588000000015, 0.41111144000000016, 0.4166670000000002, 0.4222225600000002, 0.4277781200000002, 0.4333336800000002, 0.43888924000000024, 0.44444480000000025, 0.45000036000000027, 0.4555559200000003, 0.4611114800000003, 0.4666670400000003, 0.4722226000000003, 0.47777816000000034, 0.48333372000000036, 0.48888928000000037, 0.4944448400000004, 0.5000004000000003, 0.5055559600000004, 0.5111115200000004, 0.5166670800000004, 0.5222226400000004, 0.5277782000000004, 0.5333337600000004, 0.5388893200000004, 0.5444448800000005, 0.5500004400000005, 0.5555560000000005, 0.5611115600000005, 0.5666671200000005, 0.5722226800000005, 0.5777782400000006, 0.5833338000000006, 0.5888893600000006, 0.5944449200000006, 0.6000004800000006, 0.6055560400000006, 0.6111116000000006, 0.6166671600000007, 0.6222227200000007, 0.6277782800000007, 0.6333338400000007, 0.6388894000000007, 0.6444449600000007, 0.6500005200000007, 0.6555560800000008, 0.6611116400000008, 0.6666672000000008, 0.6722227600000008, 0.6777783200000008, 0.6833338800000008, 0.6888894400000009, 0.6944450000000009, 0.7000005600000009, 0.7055561200000009, 0.7111116800000009, 0.7166672400000009, 0.7222228000000009, 0.727778360000001, 0.733333920000001, 0.738889480000001, 0.744445040000001, 0.750000600000001, 0.755556160000001, 0.761111720000001, 0.7666672800000011, 0.7722228400000011, 0.7777784000000011, 0.7833339600000011, 0.7888895200000011, 0.7944450800000011, 0.8000006400000012, 0.8055562000000012, 0.8111117600000012, 0.8166673200000012, 0.8222228800000012, 0.8277784400000012, 0.8333340000000012, 0.8388895600000013, 0.8444451200000013, 0.8500006800000013, 0.8555562400000013, 0.8611118000000013, 0.8666673600000013, 0.8722229200000013, 0.8777784800000014, 0.8833340400000014, 0.8888896000000014, 0.8944451600000014, 0.9000007200000014, 0.9055562800000014, 0.9111118400000014, 0.9166674000000015, 0.9222229600000015, 0.9277785200000015, 0.9333340800000015, 0.9388896400000015, 0.9444452000000015, 0.9500007600000016, 0.9555563200000016, 0.9611118800000016, 0.9666674400000016, 0.9722230000000016, 0.9777785600000016, 0.9833341200000016, 0.9888896800000017, 0.9944452400000017, 1.0000008000000016, 1.0055563600000015, 1.0111119200000014, 1.0166674800000013, 1.0222230400000012, 1.027778600000001, 1.033334160000001, 1.038889720000001, 1.0444452800000008, 1.0500008400000007, 1.0555564000000006, 1.0611119600000005, 1.0666675200000004, 1.0722230800000003, 1.0777786400000002, 1.0833342000000001, 1.08888976, 1.09444532, 1.1000008799999998, 1.1055564399999998, 1.1111119999999997, 1.1166675599999996, 1.1222231199999995, 1.1277786799999994, 1.1333342399999993, 1.1388897999999992, 1.144445359999999, 1.150000919999999, 1.1555564799999989, 1.1611120399999988, 1.1666675999999987, 1.1722231599999986, 1.1777787199999985, 1.1833342799999984, 1.1888898399999983, 1.1944453999999982, 1.2000009599999981, 1.205556519999998, 1.211112079999998, 1.2166676399999978, 1.2222231999999977, 1.2277787599999976, 1.2333343199999975, 1.2388898799999974, 1.2444454399999973, 1.2500009999999973, 1.2555565599999972, 1.261112119999997, 1.266667679999997, 1.2722232399999969, 1.2777787999999968, 1.2833343599999967, 1.2888899199999966, 1.2944454799999965, 1.3000010399999964, 1.3055565999999963, 1.3111121599999962, 1.316667719999996, 1.322223279999996, 1.327778839999996, 1.3333343999999958, 1.3388899599999957, 1.3444455199999956, 1.3500010799999955, 1.3555566399999954, 1.3611121999999953, 1.3666677599999952, 1.3722233199999951, 1.377778879999995, 1.383334439999995, 1.3888899999999949, 1.3944455599999948, 1.4000011199999947, 1.4055566799999946, 1.4111122399999945, 1.4166677999999944, 1.4222233599999943, 1.4277789199999942, 1.433334479999994, 1.438890039999994, 1.444445599999994, 1.4500011599999938, 1.4555567199999937, 1.4611122799999936, 1.4666678399999935, 1.4722233999999934, 1.4777789599999933, 1.4833345199999932, 1.4888900799999931, 1.494445639999993], \"xaxis\": \"x\", \"y\": [0.0, 0.0, 0.0, 0.0, 0.0, 0.0, 0.0, 0.0, 0.0, 0.0, 0.0, 0.0, 0.0, 0.0, 0.0, 0.0, 0.0, 0.0, 0.0, 0.0, 0.0, 0.0, 0.0, 0.0, 0.0, 0.0, 0.0, 0.0, 0.0, 0.0, 0.0, 0.0, 0.0, 0.0, 0.0, 0.0, 0.0, 0.0, 0.0, 0.0, 0.0, 0.0, 1.90287302596128e-07, 5.128637205960518e-07, 9.470578698195572e-07, 1.4819246363597124e-06, 2.110524248104108e-06, 2.8281720257924945e-06, 3.6319801820665218e-06, 4.5214829483195095e-06, 5.501505876721283e-06, 6.5917284919018055e-06, 7.85940571434444e-06, 9.542867058678934e-06, 1.2593149164430973e-05, 2.1816172864644314e-05, 7.91971143596211e-05, 0.001518574858720811, 0.17909297487390596, 0.179988660941034, 0.1808740703515371, 0.18174932085952944, 0.18261452887421098, 0.18346980947509262, 0.18431527642705475, 0.18515104219523854, 0.18597721795977334, 0.186793913630342, 0.1876012378605847, 0.18839929806234262, 0.1891882004197458, 0.18996804990314306, 0.19073895028287724, 0.1915010041429087, 0.1922543128942875, 0.19299897678847253, 0.19373509493050717, 0.19446276529204395, 0.19518208472422646, 0.19589314897042626, 0.19659605267883787, 0.1972908894149333, 0.19797775167377718, 0.19865673089220315, 0.19925288816927467, 0.19984095743267077, 0.2004210325756927, 0.2009932064038292, 0.2015575706474786, 0.2021142159745144, 0.20266323200269648, 0.20320470731192924, 0.20373872945637067, 0.20426538497639324, 0.20478475941039934, 0.20529693730648868, 0.20580200222887882, 0.20630003247653053, 0.20678859469189564, 0.20635429145131132, 0.0, 0.0, 0.0, 0.0, 0.0, 0.0, 0.0, 0.0, 0.0, 0.0, 0.0, 0.0, 0.0, 0.0, 0.0, 0.0, 0.0, 0.0, 0.0, 0.0, 0.0, 0.0, 0.0, 0.0, 0.0, 0.0, 0.0, 0.0, 0.0, 0.0, 0.0, 0.0, 0.0, 0.0, 0.0, 0.0, 0.0, 0.0, 0.0, 0.0, 0.0, 0.0, 0.0, 0.0, 0.0, 0.0, 0.0, 0.0, 0.0, 0.0, 0.0, 0.0, 0.0, 0.0, 0.0, 0.0, 0.0, 0.0, 0.0, 0.0, 0.0, 0.0, 0.0, 0.0, 0.0, 0.0, 0.0, 0.0, 0.0, 0.0, 0.0, 0.0, 0.0, 0.0, 0.0, 0.0, 0.0, 0.0, 0.0, 0.0, 0.0, 0.0, 0.0, 0.0, 0.0, 0.0, 0.0, 0.0, 0.0, 0.0, 0.0, 0.0, 0.0, 0.0, 0.0, 0.0, 0.0, 0.0, 0.0, 0.0, 0.0, 0.0, 0.0, 0.0, 0.0, 0.0, 0.0, 0.0, 0.0, 0.0, 0.0, 0.0, 0.0, 0.0, 0.0, 0.0, 0.0, 0.0, 0.0, 0.0, 0.0, 0.0, 0.0, 0.0, 0.0, 0.0, 0.0, 0.0, 0.0, 0.0, 0.0, 0.0, 0.0, 0.0, 0.0, 0.0, 0.0, 0.0, 0.0, 0.0, 0.0, 0.0, 0.0, 0.0, 0.0, 0.0, 0.0, 0.0, 0.0, 0.0, 0.0, 0.0, 0.0, 0.0, 0.0, 0.0, 0.0, 0.0, 0.0, 0.0, 0.0, 0.0, 0.0, 0.0, 0.0, 0.0, 0.0, 0.0, 0.0, 0.0], \"yaxis\": \"y\"}, {\"mode\": \"lines\", \"type\": \"scatter\", \"x\": [0.0, 0.16666666666666666, 0.3333333333333333, 0.5, 0.6666666666666666, 0.8333333333333334, 1.0, 1.1666666666666667, 1.3333333333333333, 1.5], \"y\": [0.0, 0.0, 0.0396, 0.201, 0.2346, 0.1164, 0.0495, 0.0234, 0.012, 0.006599999999999999]}],                        {\"legend\": {\"title\": {\"text\": \"variable\"}, \"tracegroupgap\": 0}, \"template\": {\"data\": {\"bar\": [{\"error_x\": {\"color\": \"#2a3f5f\"}, \"error_y\": {\"color\": \"#2a3f5f\"}, \"marker\": {\"line\": {\"color\": \"#E5ECF6\", \"width\": 0.5}}, \"type\": \"bar\"}], \"barpolar\": [{\"marker\": {\"line\": {\"color\": \"#E5ECF6\", \"width\": 0.5}}, \"type\": \"barpolar\"}], \"carpet\": [{\"aaxis\": {\"endlinecolor\": \"#2a3f5f\", \"gridcolor\": \"white\", \"linecolor\": \"white\", \"minorgridcolor\": \"white\", \"startlinecolor\": \"#2a3f5f\"}, \"baxis\": {\"endlinecolor\": \"#2a3f5f\", \"gridcolor\": \"white\", \"linecolor\": \"white\", \"minorgridcolor\": \"white\", \"startlinecolor\": \"#2a3f5f\"}, \"type\": \"carpet\"}], \"choropleth\": [{\"colorbar\": {\"outlinewidth\": 0, \"ticks\": \"\"}, \"type\": \"choropleth\"}], \"contour\": [{\"colorbar\": {\"outlinewidth\": 0, \"ticks\": \"\"}, \"colorscale\": [[0.0, \"#0d0887\"], [0.1111111111111111, \"#46039f\"], [0.2222222222222222, \"#7201a8\"], [0.3333333333333333, \"#9c179e\"], [0.4444444444444444, \"#bd3786\"], [0.5555555555555556, \"#d8576b\"], [0.6666666666666666, \"#ed7953\"], [0.7777777777777778, \"#fb9f3a\"], [0.8888888888888888, \"#fdca26\"], [1.0, \"#f0f921\"]], \"type\": \"contour\"}], \"contourcarpet\": [{\"colorbar\": {\"outlinewidth\": 0, \"ticks\": \"\"}, \"type\": \"contourcarpet\"}], \"heatmap\": [{\"colorbar\": {\"outlinewidth\": 0, \"ticks\": \"\"}, \"colorscale\": [[0.0, \"#0d0887\"], [0.1111111111111111, \"#46039f\"], [0.2222222222222222, \"#7201a8\"], [0.3333333333333333, \"#9c179e\"], [0.4444444444444444, \"#bd3786\"], [0.5555555555555556, \"#d8576b\"], [0.6666666666666666, \"#ed7953\"], [0.7777777777777778, \"#fb9f3a\"], [0.8888888888888888, \"#fdca26\"], [1.0, \"#f0f921\"]], \"type\": \"heatmap\"}], \"heatmapgl\": [{\"colorbar\": {\"outlinewidth\": 0, \"ticks\": \"\"}, \"colorscale\": [[0.0, \"#0d0887\"], [0.1111111111111111, \"#46039f\"], [0.2222222222222222, \"#7201a8\"], [0.3333333333333333, \"#9c179e\"], [0.4444444444444444, \"#bd3786\"], [0.5555555555555556, \"#d8576b\"], [0.6666666666666666, \"#ed7953\"], [0.7777777777777778, \"#fb9f3a\"], [0.8888888888888888, \"#fdca26\"], [1.0, \"#f0f921\"]], \"type\": \"heatmapgl\"}], \"histogram\": [{\"marker\": {\"colorbar\": {\"outlinewidth\": 0, \"ticks\": \"\"}}, \"type\": \"histogram\"}], \"histogram2d\": [{\"colorbar\": {\"outlinewidth\": 0, \"ticks\": \"\"}, \"colorscale\": [[0.0, \"#0d0887\"], [0.1111111111111111, \"#46039f\"], [0.2222222222222222, \"#7201a8\"], [0.3333333333333333, \"#9c179e\"], [0.4444444444444444, \"#bd3786\"], [0.5555555555555556, \"#d8576b\"], [0.6666666666666666, \"#ed7953\"], [0.7777777777777778, \"#fb9f3a\"], [0.8888888888888888, \"#fdca26\"], [1.0, \"#f0f921\"]], \"type\": \"histogram2d\"}], \"histogram2dcontour\": [{\"colorbar\": {\"outlinewidth\": 0, \"ticks\": \"\"}, \"colorscale\": [[0.0, \"#0d0887\"], [0.1111111111111111, \"#46039f\"], [0.2222222222222222, \"#7201a8\"], [0.3333333333333333, \"#9c179e\"], [0.4444444444444444, \"#bd3786\"], [0.5555555555555556, \"#d8576b\"], [0.6666666666666666, \"#ed7953\"], [0.7777777777777778, \"#fb9f3a\"], [0.8888888888888888, \"#fdca26\"], [1.0, \"#f0f921\"]], \"type\": \"histogram2dcontour\"}], \"mesh3d\": [{\"colorbar\": {\"outlinewidth\": 0, \"ticks\": \"\"}, \"type\": \"mesh3d\"}], \"parcoords\": [{\"line\": {\"colorbar\": {\"outlinewidth\": 0, \"ticks\": \"\"}}, \"type\": \"parcoords\"}], \"pie\": [{\"automargin\": true, \"type\": \"pie\"}], \"scatter\": [{\"marker\": {\"colorbar\": {\"outlinewidth\": 0, \"ticks\": \"\"}}, \"type\": \"scatter\"}], \"scatter3d\": [{\"line\": {\"colorbar\": {\"outlinewidth\": 0, \"ticks\": \"\"}}, \"marker\": {\"colorbar\": {\"outlinewidth\": 0, \"ticks\": \"\"}}, \"type\": \"scatter3d\"}], \"scattercarpet\": [{\"marker\": {\"colorbar\": {\"outlinewidth\": 0, \"ticks\": \"\"}}, \"type\": \"scattercarpet\"}], \"scattergeo\": [{\"marker\": {\"colorbar\": {\"outlinewidth\": 0, \"ticks\": \"\"}}, \"type\": \"scattergeo\"}], \"scattergl\": [{\"marker\": {\"colorbar\": {\"outlinewidth\": 0, \"ticks\": \"\"}}, \"type\": \"scattergl\"}], \"scattermapbox\": [{\"marker\": {\"colorbar\": {\"outlinewidth\": 0, \"ticks\": \"\"}}, \"type\": \"scattermapbox\"}], \"scatterpolar\": [{\"marker\": {\"colorbar\": {\"outlinewidth\": 0, \"ticks\": \"\"}}, \"type\": \"scatterpolar\"}], \"scatterpolargl\": [{\"marker\": {\"colorbar\": {\"outlinewidth\": 0, \"ticks\": \"\"}}, \"type\": \"scatterpolargl\"}], \"scatterternary\": [{\"marker\": {\"colorbar\": {\"outlinewidth\": 0, \"ticks\": \"\"}}, \"type\": \"scatterternary\"}], \"surface\": [{\"colorbar\": {\"outlinewidth\": 0, \"ticks\": \"\"}, \"colorscale\": [[0.0, \"#0d0887\"], [0.1111111111111111, \"#46039f\"], [0.2222222222222222, \"#7201a8\"], [0.3333333333333333, \"#9c179e\"], [0.4444444444444444, \"#bd3786\"], [0.5555555555555556, \"#d8576b\"], [0.6666666666666666, \"#ed7953\"], [0.7777777777777778, \"#fb9f3a\"], [0.8888888888888888, \"#fdca26\"], [1.0, \"#f0f921\"]], \"type\": \"surface\"}], \"table\": [{\"cells\": {\"fill\": {\"color\": \"#EBF0F8\"}, \"line\": {\"color\": \"white\"}}, \"header\": {\"fill\": {\"color\": \"#C8D4E3\"}, \"line\": {\"color\": \"white\"}}, \"type\": \"table\"}]}, \"layout\": {\"annotationdefaults\": {\"arrowcolor\": \"#2a3f5f\", \"arrowhead\": 0, \"arrowwidth\": 1}, \"autotypenumbers\": \"strict\", \"coloraxis\": {\"colorbar\": {\"outlinewidth\": 0, \"ticks\": \"\"}}, \"colorscale\": {\"diverging\": [[0, \"#8e0152\"], [0.1, \"#c51b7d\"], [0.2, \"#de77ae\"], [0.3, \"#f1b6da\"], [0.4, \"#fde0ef\"], [0.5, \"#f7f7f7\"], [0.6, \"#e6f5d0\"], [0.7, \"#b8e186\"], [0.8, \"#7fbc41\"], [0.9, \"#4d9221\"], [1, \"#276419\"]], \"sequential\": [[0.0, \"#0d0887\"], [0.1111111111111111, \"#46039f\"], [0.2222222222222222, \"#7201a8\"], [0.3333333333333333, \"#9c179e\"], [0.4444444444444444, \"#bd3786\"], [0.5555555555555556, \"#d8576b\"], [0.6666666666666666, \"#ed7953\"], [0.7777777777777778, \"#fb9f3a\"], [0.8888888888888888, \"#fdca26\"], [1.0, \"#f0f921\"]], \"sequentialminus\": [[0.0, \"#0d0887\"], [0.1111111111111111, \"#46039f\"], [0.2222222222222222, \"#7201a8\"], [0.3333333333333333, \"#9c179e\"], [0.4444444444444444, \"#bd3786\"], [0.5555555555555556, \"#d8576b\"], [0.6666666666666666, \"#ed7953\"], [0.7777777777777778, \"#fb9f3a\"], [0.8888888888888888, \"#fdca26\"], [1.0, \"#f0f921\"]]}, \"colorway\": [\"#636efa\", \"#EF553B\", \"#00cc96\", \"#ab63fa\", \"#FFA15A\", \"#19d3f3\", \"#FF6692\", \"#B6E880\", \"#FF97FF\", \"#FECB52\"], \"font\": {\"color\": \"#2a3f5f\"}, \"geo\": {\"bgcolor\": \"white\", \"lakecolor\": \"white\", \"landcolor\": \"#E5ECF6\", \"showlakes\": true, \"showland\": true, \"subunitcolor\": \"white\"}, \"hoverlabel\": {\"align\": \"left\"}, \"hovermode\": \"closest\", \"mapbox\": {\"style\": \"light\"}, \"paper_bgcolor\": \"white\", \"plot_bgcolor\": \"#E5ECF6\", \"polar\": {\"angularaxis\": {\"gridcolor\": \"white\", \"linecolor\": \"white\", \"ticks\": \"\"}, \"bgcolor\": \"#E5ECF6\", \"radialaxis\": {\"gridcolor\": \"white\", \"linecolor\": \"white\", \"ticks\": \"\"}}, \"scene\": {\"xaxis\": {\"backgroundcolor\": \"#E5ECF6\", \"gridcolor\": \"white\", \"gridwidth\": 2, \"linecolor\": \"white\", \"showbackground\": true, \"ticks\": \"\", \"zerolinecolor\": \"white\"}, \"yaxis\": {\"backgroundcolor\": \"#E5ECF6\", \"gridcolor\": \"white\", \"gridwidth\": 2, \"linecolor\": \"white\", \"showbackground\": true, \"ticks\": \"\", \"zerolinecolor\": \"white\"}, \"zaxis\": {\"backgroundcolor\": \"#E5ECF6\", \"gridcolor\": \"white\", \"gridwidth\": 2, \"linecolor\": \"white\", \"showbackground\": true, \"ticks\": \"\", \"zerolinecolor\": \"white\"}}, \"shapedefaults\": {\"line\": {\"color\": \"#2a3f5f\"}}, \"ternary\": {\"aaxis\": {\"gridcolor\": \"white\", \"linecolor\": \"white\", \"ticks\": \"\"}, \"baxis\": {\"gridcolor\": \"white\", \"linecolor\": \"white\", \"ticks\": \"\"}, \"bgcolor\": \"#E5ECF6\", \"caxis\": {\"gridcolor\": \"white\", \"linecolor\": \"white\", \"ticks\": \"\"}}, \"title\": {\"x\": 0.05}, \"xaxis\": {\"automargin\": true, \"gridcolor\": \"white\", \"linecolor\": \"white\", \"ticks\": \"\", \"title\": {\"standoff\": 15}, \"zerolinecolor\": \"white\", \"zerolinewidth\": 2}, \"yaxis\": {\"automargin\": true, \"gridcolor\": \"white\", \"linecolor\": \"white\", \"ticks\": \"\", \"title\": {\"standoff\": 15}, \"zerolinecolor\": \"white\", \"zerolinewidth\": 2}}}, \"title\": {\"text\": \"Flow rates\"}, \"xaxis\": {\"anchor\": \"y\", \"domain\": [0.0, 1.0], \"title\": {\"text\": \"index\"}}, \"yaxis\": {\"anchor\": \"x\", \"domain\": [0.0, 1.0], \"title\": {\"text\": \"value\"}}},                        {\"responsive\": true}                    ).then(function(){\n",
       "                            \n",
       "var gd = document.getElementById('057391d2-02e5-4076-89c7-e7665efac7fb');\n",
       "var x = new MutationObserver(function (mutations, observer) {{\n",
       "        var display = window.getComputedStyle(gd).display;\n",
       "        if (!display || display === 'none') {{\n",
       "            console.log([gd, 'removed!']);\n",
       "            Plotly.purge(gd);\n",
       "            observer.disconnect();\n",
       "        }}\n",
       "}});\n",
       "\n",
       "// Listen for the removal of the full notebook cells\n",
       "var notebookContainer = gd.closest('#notebook-container');\n",
       "if (notebookContainer) {{\n",
       "    x.observe(notebookContainer, {childList: true});\n",
       "}}\n",
       "\n",
       "// Listen for the clearing of the current output cell\n",
       "var outputEl = gd.closest('.output');\n",
       "if (outputEl) {{\n",
       "    x.observe(outputEl, {childList: true});\n",
       "}}\n",
       "\n",
       "                        })                };                });            </script>        </div>"
      ]
     },
     "metadata": {},
     "output_type": "display_data"
    },
    {
     "name": "stdout",
     "output_type": "stream",
     "text": [
      "[0.0, 0.0, 0.0396, 0.201, 0.2346, 0.1164, 0.0495, 0.0234, 0.012, 0.006599999999999999]\n"
     ]
    }
   ],
   "source": [
    "import plotly.express as px\n",
    "import plotly.graph_objects as go\n",
    "fig = px.line(df, x=df.index, y=['17Δx'], title=\"Flow rates\")\n",
    "\n",
    "observedtime=[]\n",
    "for i in range(4,len(ObservedUS['Unsteady Plot'])):\n",
    "    needtoconvert=float(ObservedUS['Unsteady Plot'][i])/60.00\n",
    "    observedtime.append(needtoconvert)#need to add /3600 was getting error unsupported operand type(s) for /: 'str' and 'int'\n",
    "#print(observedtime)\n",
    "\n",
    "observedflow=[]\n",
    "for i in range(4,len(ObservedUS['Unnamed: 1'])):\n",
    "    observedprt2y=float(ObservedUS['Unnamed: 1'][i])*.3\n",
    "    observedflow.append(observedprt2y)\n",
    "\n",
    "#print(observedflow)\n",
    "fig.add_trace(go.Scatter(x=observedtime,y=observedflow, mode=\"lines\"))\n",
    "fig.show()\n",
    "\n",
    "#fig.write_html(r'C:\\Users\\AnnaA\\Downloads\\chapter7fig2.html')\n",
    "print(observedflow)"
   ]
  },
  {
   "cell_type": "code",
   "execution_count": null,
   "metadata": {},
   "outputs": [],
   "source": [
    "           \n",
    "            \n",
    "14/60"
   ]
  },
  {
   "cell_type": "code",
   "execution_count": null,
   "metadata": {},
   "outputs": [],
   "source": []
  }
 ],
 "metadata": {
  "kernelspec": {
   "display_name": "Python 3",
   "language": "python",
   "name": "python3"
  },
  "language_info": {
   "codemirror_mode": {
    "name": "ipython",
    "version": 3
   },
   "file_extension": ".py",
   "mimetype": "text/x-python",
   "name": "python",
   "nbconvert_exporter": "python",
   "pygments_lexer": "ipython3",
   "version": "3.7.3"
  }
 },
 "nbformat": 4,
 "nbformat_minor": 2
}
